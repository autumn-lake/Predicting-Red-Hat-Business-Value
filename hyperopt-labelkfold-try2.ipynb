{
 "cells": [
  {
   "cell_type": "code",
   "execution_count": 1,
   "metadata": {
    "collapsed": false
   },
   "outputs": [],
   "source": [
    "import numpy as np\n",
    "import pandas as pd\n",
    "import xgboost as xgb\n",
    "from xgboost.sklearn import XGBClassifier\n",
    "\n",
    "from sklearn.preprocessing import OneHotEncoder\n",
    "from sklearn.grid_search import GridSearchCV, RandomizedSearchCV\n",
    "from sklearn.datasets import make_classification\n",
    "from sklearn.cross_validation import StratifiedKFold,KFold,train_test_split\n",
    "from scipy.stats import randint, uniform\n",
    "from sklearn.metrics import roc_auc_score\n",
    "from sklearn.cross_validation import LabelKFold\n",
    "from sklearn.linear_model import LogisticRegression\n",
    "from sklearn.cross_validation import StratifiedKFold\n",
    "from sklearn.metrics import log_loss, roc_auc_score\n",
    "\n",
    "%matplotlib inline\n",
    "import matplotlib.pyplot as plt\n",
    "\n",
    "import datetime\n",
    "import random\n",
    "from operator import itemgetter\n",
    "import time\n",
    "import copy\n",
    "\n",
    "from scipy.io import mmread\n",
    "\n",
    "np.random.seed(333)\n",
    "\n",
    "from hyperopt import hp\n",
    "from hyperopt import fmin, tpe, hp, STATUS_OK, Trials\n",
    "\n",
    "import os\n",
    "import sys\n",
    "#sys.stdout = open('tune_hyperopt_try1.txt', 'w', 1)\n",
    "import xgboost as xgb"
   ]
  },
  {
   "cell_type": "code",
   "execution_count": 2,
   "metadata": {
    "collapsed": true
   },
   "outputs": [],
   "source": [
    "dtrain = xgb.DMatrix('svmlight_try2/dtrain.data')\n",
    "dtest = xgb.DMatrix('svmlight_try2/dtest.data')\n",
    "\n",
    "act_train_data = pd.read_csv(\"redhat_data_new/act_train_new_try2.csv\",dtype={'people_id': np.str, 'activity_id': np.str, 'outcome': np.int8}, parse_dates=['date'])\n",
    "act_test_data  = pd.read_csv(\"redhat_data_new/act_test_new_try2.csv\", dtype={'people_id': np.str, 'activity_id': np.str}, parse_dates=['date'])\n",
    "people_data    = pd.read_csv(\"redhat_data_new/people.csv\", dtype={'people_id': np.str, 'activity_id': np.str, 'char_38': np.int32}, parse_dates=['date'])"
   ]
  },
  {
   "cell_type": "code",
   "execution_count": null,
   "metadata": {
    "collapsed": true
   },
   "outputs": [],
   "source": [
    "lkf = LabelKFold(act_train_data['people_id'], n_folds=30)\n",
    "def score(clf, random_state = 444):\n",
    "    #lkf = StratifiedKFold(y, n_folds=10, shuffle=True, random_state=random_state)\n",
    "    pred = np.zeros((y.shape[0],nclasses))\n",
    "    for itrain, itest in lkf:\n",
    "        Xtr, Xte = Xtrain[itrain, :], Xtrain[itest, :]\n",
    "        ytr, yte = y[itrain], y[itest]\n",
    "        clf.fit(Xtr, ytr)\n",
    "        pred[itest,:] = clf.predict_proba(Xte)\n",
    "        # Downsize to one fold only for kernels\n",
    "        print(\"{:.5f}\".format(roc_auc_score(yte, pred[itest,1:])), end=' ')\n",
    "        #return roc_auc_score(yte, pred[itest, 1:])\n",
    "    \n",
    "    print(\"score : {:.5f}\".format(roc_auc_score(y, pred[:,1:])), end=' ')\n",
    "    return pred"
   ]
  },
  {
   "cell_type": "code",
   "execution_count": 14,
   "metadata": {
    "collapsed": true
   },
   "outputs": [],
   "source": [
    "def score1(params):\n",
    "    print(\"Training with params : \")\n",
    "    print(params)\n",
    "    num_round = int(params['n_estimators'])\n",
    "    del params['n_estimators']\n",
    "    watchlist = [(dtrain, 'train'),(dval, 'eval')]\n",
    "    model = xgb.train(params, dtrain, num_round, early_stopping_rounds=30, evals=watchlist, verbose_eval=10)\n",
    "    pred_val = model.predict(dval, ntree_limit = model.best_ntree_limit)\n",
    "    score_val = roc_auc_score(yval, pred_val)\n",
    "    score = 1 - score\n",
    "    print(\"\\tA\\auc_val: {0}\\n\\n\".format(score_val))\n",
    "    return {'loss': score, 'status': STATUS_OK}\n",
    "\n",
    "def score(params):\n",
    "    print(\"Training with params : \")\n",
    "    print(params)\n",
    "    num_round = int(params['n_estimators'])\n",
    "    del params['n_estimators']\n",
    "    #watchlist = [(dtrain, 'train'),(dval, 'eval')]\n",
    "    model = xgb.train(params, dtrain, num_round)\n",
    "    pred_val = model.predict(dval)\n",
    "    score_val = roc_auc_score(yval, pred_val)\n",
    "    score = 1 - score_val\n",
    "    print(\"\\tA\\auc_val: {0}\\n\\n\".format(score_val))\n",
    "    return {'loss': score, 'status': STATUS_OK}\n",
    "\n",
    "def optimize(random_state=5):\n",
    "    space = {\n",
    "             'n_estimators' : 200,\n",
    "             #'n_estimators' : hp.quniform('n_estimators', 10, 1000, 1),\n",
    "             'eta' : 0.1,  \n",
    "             'lambda': hp.uniform('lambda', 0, 5),\n",
    "             'alpha': hp.uniform('alpha', 0, 5),\n",
    "             'lambda_bias' : hp.uniform('lambda_bias', 0, 5),\n",
    "             'eval_metric': 'auc',\n",
    "             'objective': 'binary:logistic',\n",
    "             'booster': 'gblinear',\n",
    "             'nthread' : 4,\n",
    "             'silent' : 1,\n",
    "             'seed' : random_state\n",
    "             }\n",
    "\n",
    "    best = fmin(score, space, algo=tpe.suggest, max_evals=250)\n",
    "\n",
    "    print(best)"
   ]
  },
  {
   "cell_type": "code",
   "execution_count": 15,
   "metadata": {
    "collapsed": false
   },
   "outputs": [
    {
     "name": "stdout",
     "output_type": "stream",
     "text": [
      "Training with params : \n",
      "{'objective': 'binary:logistic', 'n_estimators': 200, 'alpha': 2.49661904880883, 'silent': 1, 'lambda': 0.38400074436670595, 'nthread': 4, 'seed': 5, 'lambda_bias': 1.3923183019424918, 'eval_metric': 'auc', 'booster': 'gblinear', 'eta': 0.1}\n",
      "\tA\u0007uc_val: 0.6664703982970666\n",
      "\n",
      "\n",
      "Training with params : \n",
      "{'objective': 'binary:logistic', 'n_estimators': 200, 'alpha': 0.08119008636677472, 'silent': 1, 'lambda': 1.4064943322305297, 'nthread': 4, 'seed': 5, 'lambda_bias': 3.7369339881757617, 'eval_metric': 'auc', 'booster': 'gblinear', 'eta': 0.1}\n",
      "\tA\u0007uc_val: 0.6656938945183298\n",
      "\n",
      "\n",
      "Training with params : \n",
      "{'objective': 'binary:logistic', 'n_estimators': 200, 'alpha': 4.4773322739405765, 'silent': 1, 'lambda': 1.405098042619356, 'nthread': 4, 'seed': 5, 'lambda_bias': 3.2616441696339997, 'eval_metric': 'auc', 'booster': 'gblinear', 'eta': 0.1}\n",
      "\tA\u0007uc_val: 0.6683088474086012\n",
      "\n",
      "\n",
      "Training with params : \n",
      "{'objective': 'binary:logistic', 'n_estimators': 200, 'alpha': 1.7835307837003183, 'silent': 1, 'lambda': 1.671232156931044, 'nthread': 4, 'seed': 5, 'lambda_bias': 0.42243239458373105, 'eval_metric': 'auc', 'booster': 'gblinear', 'eta': 0.1}\n",
      "\tA\u0007uc_val: 0.6675577156984411\n",
      "\n",
      "\n",
      "Training with params : \n",
      "{'objective': 'binary:logistic', 'n_estimators': 200, 'alpha': 0.13053360669172787, 'silent': 1, 'lambda': 2.2649517635818923, 'nthread': 4, 'seed': 5, 'lambda_bias': 4.126738084742778, 'eval_metric': 'auc', 'booster': 'gblinear', 'eta': 0.1}\n",
      "\tA\u0007uc_val: 0.6667831316568329\n",
      "\n",
      "\n",
      "Training with params : \n",
      "{'objective': 'binary:logistic', 'n_estimators': 200, 'alpha': 4.831305270990354, 'silent': 1, 'lambda': 0.3859886596514639, 'nthread': 4, 'seed': 5, 'lambda_bias': 1.441093532021815, 'eval_metric': 'auc', 'booster': 'gblinear', 'eta': 0.1}\n",
      "\tA\u0007uc_val: 0.667449424301475\n",
      "\n",
      "\n",
      "Training with params : \n",
      "{'objective': 'binary:logistic', 'n_estimators': 200, 'alpha': 4.644506922690313, 'silent': 1, 'lambda': 1.4500886720101547, 'nthread': 4, 'seed': 5, 'lambda_bias': 3.9915017357244893, 'eval_metric': 'auc', 'booster': 'gblinear', 'eta': 0.1}\n",
      "\tA\u0007uc_val: 0.6683316770191158\n",
      "\n",
      "\n",
      "Training with params : \n",
      "{'objective': 'binary:logistic', 'n_estimators': 200, 'alpha': 3.0782082172546317, 'silent': 1, 'lambda': 3.119256365823144, 'nthread': 4, 'seed': 5, 'lambda_bias': 0.59672164494734, 'eval_metric': 'auc', 'booster': 'gblinear', 'eta': 0.1}\n",
      "\tA\u0007uc_val: 0.6685234133337549\n",
      "\n",
      "\n",
      "Training with params : \n",
      "{'objective': 'binary:logistic', 'n_estimators': 200, 'alpha': 2.5315224890845567, 'silent': 1, 'lambda': 2.278265166129689, 'nthread': 4, 'seed': 5, 'lambda_bias': 3.354656176023878, 'eval_metric': 'auc', 'booster': 'gblinear', 'eta': 0.1}\n",
      "\tA\u0007uc_val: 0.6682156694776062\n",
      "\n",
      "\n",
      "Training with params : \n",
      "{'objective': 'binary:logistic', 'n_estimators': 200, 'alpha': 4.133805125251339, 'silent': 1, 'lambda': 2.5796954312094336, 'nthread': 4, 'seed': 5, 'lambda_bias': 4.985041810420961, 'eval_metric': 'auc', 'booster': 'gblinear', 'eta': 0.1}\n",
      "\tA\u0007uc_val: 0.6685818690831619\n",
      "\n",
      "\n",
      "Training with params : \n",
      "{'objective': 'binary:logistic', 'n_estimators': 200, 'alpha': 1.5676712127056858, 'silent': 1, 'lambda': 4.524570455379529, 'nthread': 4, 'seed': 5, 'lambda_bias': 0.11507377492172455, 'eval_metric': 'auc', 'booster': 'gblinear', 'eta': 0.1}\n",
      "\tA\u0007uc_val: 0.6683393694082114\n",
      "\n",
      "\n",
      "Training with params : \n",
      "{'objective': 'binary:logistic', 'n_estimators': 200, 'alpha': 3.417940956975806, 'silent': 1, 'lambda': 1.7077475654250311, 'nthread': 4, 'seed': 5, 'lambda_bias': 0.7859288645360996, 'eval_metric': 'auc', 'booster': 'gblinear', 'eta': 0.1}\n",
      "\tA\u0007uc_val: 0.6682865401053674\n",
      "\n",
      "\n",
      "Training with params : \n",
      "{'objective': 'binary:logistic', 'n_estimators': 200, 'alpha': 1.0864814085053842, 'silent': 1, 'lambda': 1.3030057579196264, 'nthread': 4, 'seed': 5, 'lambda_bias': 0.9388209921302487, 'eval_metric': 'auc', 'booster': 'gblinear', 'eta': 0.1}\n"
     ]
    },
    {
     "ename": "KeyboardInterrupt",
     "evalue": "",
     "output_type": "error",
     "traceback": [
      "\u001b[0;31m---------------------------------------------------------------------------\u001b[0m",
      "\u001b[0;31mKeyboardInterrupt\u001b[0m                         Traceback (most recent call last)",
      "\u001b[0;32m<ipython-input-15-7a26024e62bc>\u001b[0m in \u001b[0;36m<module>\u001b[0;34m()\u001b[0m\n\u001b[1;32m      7\u001b[0m \u001b[0mtrials\u001b[0m \u001b[0;34m=\u001b[0m \u001b[0mTrials\u001b[0m\u001b[0;34m(\u001b[0m\u001b[0;34m)\u001b[0m\u001b[0;34m\u001b[0m\u001b[0m\n\u001b[1;32m      8\u001b[0m \u001b[0;34m\u001b[0m\u001b[0m\n\u001b[0;32m----> 9\u001b[0;31m \u001b[0moptimize\u001b[0m\u001b[0;34m(\u001b[0m\u001b[0;34m)\u001b[0m\u001b[0;34m\u001b[0m\u001b[0m\n\u001b[0m",
      "\u001b[0;32m<ipython-input-14-579003222f7d>\u001b[0m in \u001b[0;36moptimize\u001b[0;34m(random_state)\u001b[0m\n\u001b[1;32m     41\u001b[0m              }\n\u001b[1;32m     42\u001b[0m \u001b[0;34m\u001b[0m\u001b[0m\n\u001b[0;32m---> 43\u001b[0;31m     \u001b[0mbest\u001b[0m \u001b[0;34m=\u001b[0m \u001b[0mfmin\u001b[0m\u001b[0;34m(\u001b[0m\u001b[0mscore\u001b[0m\u001b[0;34m,\u001b[0m \u001b[0mspace\u001b[0m\u001b[0;34m,\u001b[0m \u001b[0malgo\u001b[0m\u001b[0;34m=\u001b[0m\u001b[0mtpe\u001b[0m\u001b[0;34m.\u001b[0m\u001b[0msuggest\u001b[0m\u001b[0;34m,\u001b[0m \u001b[0mmax_evals\u001b[0m\u001b[0;34m=\u001b[0m\u001b[0;36m250\u001b[0m\u001b[0;34m)\u001b[0m\u001b[0;34m\u001b[0m\u001b[0m\n\u001b[0m\u001b[1;32m     44\u001b[0m \u001b[0;34m\u001b[0m\u001b[0m\n\u001b[1;32m     45\u001b[0m     \u001b[0mprint\u001b[0m\u001b[0;34m(\u001b[0m\u001b[0mbest\u001b[0m\u001b[0;34m)\u001b[0m\u001b[0;34m\u001b[0m\u001b[0m\n",
      "\u001b[0;32m/home/choudharyk0408/hyperopt/build/lib/hyperopt/fmin.py\u001b[0m in \u001b[0;36mfmin\u001b[0;34m(fn, space, algo, max_evals, trials, rstate, allow_trials_fmin, pass_expr_memo_ctrl, catch_eval_exceptions, verbose, return_argmin)\u001b[0m\n\u001b[1;32m    317\u001b[0m                     verbose=verbose)\n\u001b[1;32m    318\u001b[0m     \u001b[0mrval\u001b[0m\u001b[0;34m.\u001b[0m\u001b[0mcatch_eval_exceptions\u001b[0m \u001b[0;34m=\u001b[0m \u001b[0mcatch_eval_exceptions\u001b[0m\u001b[0;34m\u001b[0m\u001b[0m\n\u001b[0;32m--> 319\u001b[0;31m     \u001b[0mrval\u001b[0m\u001b[0;34m.\u001b[0m\u001b[0mexhaust\u001b[0m\u001b[0;34m(\u001b[0m\u001b[0;34m)\u001b[0m\u001b[0;34m\u001b[0m\u001b[0m\n\u001b[0m\u001b[1;32m    320\u001b[0m     \u001b[0;32mif\u001b[0m \u001b[0mreturn_argmin\u001b[0m\u001b[0;34m:\u001b[0m\u001b[0;34m\u001b[0m\u001b[0m\n\u001b[1;32m    321\u001b[0m         \u001b[0;32mreturn\u001b[0m \u001b[0mtrials\u001b[0m\u001b[0;34m.\u001b[0m\u001b[0margmin\u001b[0m\u001b[0;34m\u001b[0m\u001b[0m\n",
      "\u001b[0;32m/home/choudharyk0408/hyperopt/build/lib/hyperopt/fmin.py\u001b[0m in \u001b[0;36mexhaust\u001b[0;34m(self)\u001b[0m\n\u001b[1;32m    196\u001b[0m     \u001b[0;32mdef\u001b[0m \u001b[0mexhaust\u001b[0m\u001b[0;34m(\u001b[0m\u001b[0mself\u001b[0m\u001b[0;34m)\u001b[0m\u001b[0;34m:\u001b[0m\u001b[0;34m\u001b[0m\u001b[0m\n\u001b[1;32m    197\u001b[0m         \u001b[0mn_done\u001b[0m \u001b[0;34m=\u001b[0m \u001b[0mlen\u001b[0m\u001b[0;34m(\u001b[0m\u001b[0mself\u001b[0m\u001b[0;34m.\u001b[0m\u001b[0mtrials\u001b[0m\u001b[0;34m)\u001b[0m\u001b[0;34m\u001b[0m\u001b[0m\n\u001b[0;32m--> 198\u001b[0;31m         \u001b[0mself\u001b[0m\u001b[0;34m.\u001b[0m\u001b[0mrun\u001b[0m\u001b[0;34m(\u001b[0m\u001b[0mself\u001b[0m\u001b[0;34m.\u001b[0m\u001b[0mmax_evals\u001b[0m \u001b[0;34m-\u001b[0m \u001b[0mn_done\u001b[0m\u001b[0;34m,\u001b[0m \u001b[0mblock_until_done\u001b[0m\u001b[0;34m=\u001b[0m\u001b[0mself\u001b[0m\u001b[0;34m.\u001b[0m\u001b[0masync\u001b[0m\u001b[0;34m)\u001b[0m\u001b[0;34m\u001b[0m\u001b[0m\n\u001b[0m\u001b[1;32m    199\u001b[0m         \u001b[0mself\u001b[0m\u001b[0;34m.\u001b[0m\u001b[0mtrials\u001b[0m\u001b[0;34m.\u001b[0m\u001b[0mrefresh\u001b[0m\u001b[0;34m(\u001b[0m\u001b[0;34m)\u001b[0m\u001b[0;34m\u001b[0m\u001b[0m\n\u001b[1;32m    200\u001b[0m         \u001b[0;32mreturn\u001b[0m \u001b[0mself\u001b[0m\u001b[0;34m\u001b[0m\u001b[0m\n",
      "\u001b[0;32m/home/choudharyk0408/hyperopt/build/lib/hyperopt/fmin.py\u001b[0m in \u001b[0;36mrun\u001b[0;34m(self, N, block_until_done)\u001b[0m\n\u001b[1;32m    170\u001b[0m             \u001b[0;32melse\u001b[0m\u001b[0;34m:\u001b[0m\u001b[0;34m\u001b[0m\u001b[0m\n\u001b[1;32m    171\u001b[0m                 \u001b[0;31m# -- loop over trials and do the jobs directly\u001b[0m\u001b[0;34m\u001b[0m\u001b[0;34m\u001b[0m\u001b[0m\n\u001b[0;32m--> 172\u001b[0;31m                 \u001b[0mself\u001b[0m\u001b[0;34m.\u001b[0m\u001b[0mserial_evaluate\u001b[0m\u001b[0;34m(\u001b[0m\u001b[0;34m)\u001b[0m\u001b[0;34m\u001b[0m\u001b[0m\n\u001b[0m\u001b[1;32m    173\u001b[0m \u001b[0;34m\u001b[0m\u001b[0m\n\u001b[1;32m    174\u001b[0m             \u001b[0;32mif\u001b[0m \u001b[0mstopped\u001b[0m\u001b[0;34m:\u001b[0m\u001b[0;34m\u001b[0m\u001b[0m\n",
      "\u001b[0;32m/home/choudharyk0408/hyperopt/build/lib/hyperopt/fmin.py\u001b[0m in \u001b[0;36mserial_evaluate\u001b[0;34m(self, N)\u001b[0m\n\u001b[1;32m     87\u001b[0m                 \u001b[0mctrl\u001b[0m \u001b[0;34m=\u001b[0m \u001b[0mbase\u001b[0m\u001b[0;34m.\u001b[0m\u001b[0mCtrl\u001b[0m\u001b[0;34m(\u001b[0m\u001b[0mself\u001b[0m\u001b[0;34m.\u001b[0m\u001b[0mtrials\u001b[0m\u001b[0;34m,\u001b[0m \u001b[0mcurrent_trial\u001b[0m\u001b[0;34m=\u001b[0m\u001b[0mtrial\u001b[0m\u001b[0;34m)\u001b[0m\u001b[0;34m\u001b[0m\u001b[0m\n\u001b[1;32m     88\u001b[0m                 \u001b[0;32mtry\u001b[0m\u001b[0;34m:\u001b[0m\u001b[0;34m\u001b[0m\u001b[0m\n\u001b[0;32m---> 89\u001b[0;31m                     \u001b[0mresult\u001b[0m \u001b[0;34m=\u001b[0m \u001b[0mself\u001b[0m\u001b[0;34m.\u001b[0m\u001b[0mdomain\u001b[0m\u001b[0;34m.\u001b[0m\u001b[0mevaluate\u001b[0m\u001b[0;34m(\u001b[0m\u001b[0mspec\u001b[0m\u001b[0;34m,\u001b[0m \u001b[0mctrl\u001b[0m\u001b[0;34m)\u001b[0m\u001b[0;34m\u001b[0m\u001b[0m\n\u001b[0m\u001b[1;32m     90\u001b[0m                 \u001b[0;32mexcept\u001b[0m \u001b[0mException\u001b[0m \u001b[0;32mas\u001b[0m \u001b[0me\u001b[0m\u001b[0;34m:\u001b[0m\u001b[0;34m\u001b[0m\u001b[0m\n\u001b[1;32m     91\u001b[0m                     \u001b[0mlogger\u001b[0m\u001b[0;34m.\u001b[0m\u001b[0minfo\u001b[0m\u001b[0;34m(\u001b[0m\u001b[0;34m'job exception: %s'\u001b[0m \u001b[0;34m%\u001b[0m \u001b[0mstr\u001b[0m\u001b[0;34m(\u001b[0m\u001b[0me\u001b[0m\u001b[0;34m)\u001b[0m\u001b[0;34m)\u001b[0m\u001b[0;34m\u001b[0m\u001b[0m\n",
      "\u001b[0;32m/home/choudharyk0408/hyperopt/build/lib/hyperopt/base.py\u001b[0m in \u001b[0;36mevaluate\u001b[0;34m(self, config, ctrl, attach_attachments)\u001b[0m\n\u001b[1;32m    836\u001b[0m                 \u001b[0mmemo\u001b[0m\u001b[0;34m=\u001b[0m\u001b[0mmemo\u001b[0m\u001b[0;34m,\u001b[0m\u001b[0;34m\u001b[0m\u001b[0m\n\u001b[1;32m    837\u001b[0m                 print_node_on_error=self.rec_eval_print_node_on_error)\n\u001b[0;32m--> 838\u001b[0;31m             \u001b[0mrval\u001b[0m \u001b[0;34m=\u001b[0m \u001b[0mself\u001b[0m\u001b[0;34m.\u001b[0m\u001b[0mfn\u001b[0m\u001b[0;34m(\u001b[0m\u001b[0mpyll_rval\u001b[0m\u001b[0;34m)\u001b[0m\u001b[0;34m\u001b[0m\u001b[0m\n\u001b[0m\u001b[1;32m    839\u001b[0m \u001b[0;34m\u001b[0m\u001b[0m\n\u001b[1;32m    840\u001b[0m         \u001b[0;32mif\u001b[0m \u001b[0misinstance\u001b[0m\u001b[0;34m(\u001b[0m\u001b[0mrval\u001b[0m\u001b[0;34m,\u001b[0m \u001b[0;34m(\u001b[0m\u001b[0mfloat\u001b[0m\u001b[0;34m,\u001b[0m \u001b[0mint\u001b[0m\u001b[0;34m,\u001b[0m \u001b[0mnp\u001b[0m\u001b[0;34m.\u001b[0m\u001b[0mnumber\u001b[0m\u001b[0;34m)\u001b[0m\u001b[0;34m)\u001b[0m\u001b[0;34m:\u001b[0m\u001b[0;34m\u001b[0m\u001b[0m\n",
      "\u001b[0;32m<ipython-input-14-579003222f7d>\u001b[0m in \u001b[0;36mscore\u001b[0;34m(params)\u001b[0m\n\u001b[1;32m     18\u001b[0m     \u001b[0;32mdel\u001b[0m \u001b[0mparams\u001b[0m\u001b[0;34m[\u001b[0m\u001b[0;34m'n_estimators'\u001b[0m\u001b[0;34m]\u001b[0m\u001b[0;34m\u001b[0m\u001b[0m\n\u001b[1;32m     19\u001b[0m     \u001b[0;31m#watchlist = [(dtrain, 'train'),(dval, 'eval')]\u001b[0m\u001b[0;34m\u001b[0m\u001b[0;34m\u001b[0m\u001b[0m\n\u001b[0;32m---> 20\u001b[0;31m     \u001b[0mmodel\u001b[0m \u001b[0;34m=\u001b[0m \u001b[0mxgb\u001b[0m\u001b[0;34m.\u001b[0m\u001b[0mtrain\u001b[0m\u001b[0;34m(\u001b[0m\u001b[0mparams\u001b[0m\u001b[0;34m,\u001b[0m \u001b[0mdtrain\u001b[0m\u001b[0;34m,\u001b[0m \u001b[0mnum_round\u001b[0m\u001b[0;34m)\u001b[0m\u001b[0;34m\u001b[0m\u001b[0m\n\u001b[0m\u001b[1;32m     21\u001b[0m     \u001b[0mpred_val\u001b[0m \u001b[0;34m=\u001b[0m \u001b[0mmodel\u001b[0m\u001b[0;34m.\u001b[0m\u001b[0mpredict\u001b[0m\u001b[0;34m(\u001b[0m\u001b[0mdval\u001b[0m\u001b[0;34m)\u001b[0m\u001b[0;34m\u001b[0m\u001b[0m\n\u001b[1;32m     22\u001b[0m     \u001b[0mscore_val\u001b[0m \u001b[0;34m=\u001b[0m \u001b[0mroc_auc_score\u001b[0m\u001b[0;34m(\u001b[0m\u001b[0myval\u001b[0m\u001b[0;34m,\u001b[0m \u001b[0mpred_val\u001b[0m\u001b[0;34m)\u001b[0m\u001b[0;34m\u001b[0m\u001b[0m\n",
      "\u001b[0;32m/home/choudharyk0408/.local/lib/python3.5/site-packages/xgboost-0.6-py3.5.egg/xgboost/training.py\u001b[0m in \u001b[0;36mtrain\u001b[0;34m(params, dtrain, num_boost_round, evals, obj, feval, maximize, early_stopping_rounds, evals_result, verbose_eval, learning_rates, xgb_model, callbacks)\u001b[0m\n\u001b[1;32m    203\u001b[0m                            \u001b[0mevals\u001b[0m\u001b[0;34m=\u001b[0m\u001b[0mevals\u001b[0m\u001b[0;34m,\u001b[0m\u001b[0;34m\u001b[0m\u001b[0m\n\u001b[1;32m    204\u001b[0m                            \u001b[0mobj\u001b[0m\u001b[0;34m=\u001b[0m\u001b[0mobj\u001b[0m\u001b[0;34m,\u001b[0m \u001b[0mfeval\u001b[0m\u001b[0;34m=\u001b[0m\u001b[0mfeval\u001b[0m\u001b[0;34m,\u001b[0m\u001b[0;34m\u001b[0m\u001b[0m\n\u001b[0;32m--> 205\u001b[0;31m                            xgb_model=xgb_model, callbacks=callbacks)\n\u001b[0m\u001b[1;32m    206\u001b[0m \u001b[0;34m\u001b[0m\u001b[0m\n\u001b[1;32m    207\u001b[0m \u001b[0;34m\u001b[0m\u001b[0m\n",
      "\u001b[0;32m/home/choudharyk0408/.local/lib/python3.5/site-packages/xgboost-0.6-py3.5.egg/xgboost/training.py\u001b[0m in \u001b[0;36m_train_internal\u001b[0;34m(params, dtrain, num_boost_round, evals, obj, feval, xgb_model, callbacks)\u001b[0m\n\u001b[1;32m     74\u001b[0m         \u001b[0;31m# Skip the first update if it is a recovery step.\u001b[0m\u001b[0;34m\u001b[0m\u001b[0;34m\u001b[0m\u001b[0m\n\u001b[1;32m     75\u001b[0m         \u001b[0;32mif\u001b[0m \u001b[0mversion\u001b[0m \u001b[0;34m%\u001b[0m \u001b[0;36m2\u001b[0m \u001b[0;34m==\u001b[0m \u001b[0;36m0\u001b[0m\u001b[0;34m:\u001b[0m\u001b[0;34m\u001b[0m\u001b[0m\n\u001b[0;32m---> 76\u001b[0;31m             \u001b[0mbst\u001b[0m\u001b[0;34m.\u001b[0m\u001b[0mupdate\u001b[0m\u001b[0;34m(\u001b[0m\u001b[0mdtrain\u001b[0m\u001b[0;34m,\u001b[0m \u001b[0mi\u001b[0m\u001b[0;34m,\u001b[0m \u001b[0mobj\u001b[0m\u001b[0;34m)\u001b[0m\u001b[0;34m\u001b[0m\u001b[0m\n\u001b[0m\u001b[1;32m     77\u001b[0m             \u001b[0mbst\u001b[0m\u001b[0;34m.\u001b[0m\u001b[0msave_rabit_checkpoint\u001b[0m\u001b[0;34m(\u001b[0m\u001b[0;34m)\u001b[0m\u001b[0;34m\u001b[0m\u001b[0m\n\u001b[1;32m     78\u001b[0m             \u001b[0mversion\u001b[0m \u001b[0;34m+=\u001b[0m \u001b[0;36m1\u001b[0m\u001b[0;34m\u001b[0m\u001b[0m\n",
      "\u001b[0;32m/home/choudharyk0408/.local/lib/python3.5/site-packages/xgboost-0.6-py3.5.egg/xgboost/core.py\u001b[0m in \u001b[0;36mupdate\u001b[0;34m(self, dtrain, iteration, fobj)\u001b[0m\n\u001b[1;32m    804\u001b[0m \u001b[0;34m\u001b[0m\u001b[0m\n\u001b[1;32m    805\u001b[0m         \u001b[0;32mif\u001b[0m \u001b[0mfobj\u001b[0m \u001b[0;32mis\u001b[0m \u001b[0;32mNone\u001b[0m\u001b[0;34m:\u001b[0m\u001b[0;34m\u001b[0m\u001b[0m\n\u001b[0;32m--> 806\u001b[0;31m             \u001b[0m_check_call\u001b[0m\u001b[0;34m(\u001b[0m\u001b[0m_LIB\u001b[0m\u001b[0;34m.\u001b[0m\u001b[0mXGBoosterUpdateOneIter\u001b[0m\u001b[0;34m(\u001b[0m\u001b[0mself\u001b[0m\u001b[0;34m.\u001b[0m\u001b[0mhandle\u001b[0m\u001b[0;34m,\u001b[0m \u001b[0miteration\u001b[0m\u001b[0;34m,\u001b[0m \u001b[0mdtrain\u001b[0m\u001b[0;34m.\u001b[0m\u001b[0mhandle\u001b[0m\u001b[0;34m)\u001b[0m\u001b[0;34m)\u001b[0m\u001b[0;34m\u001b[0m\u001b[0m\n\u001b[0m\u001b[1;32m    807\u001b[0m         \u001b[0;32melse\u001b[0m\u001b[0;34m:\u001b[0m\u001b[0;34m\u001b[0m\u001b[0m\n\u001b[1;32m    808\u001b[0m             \u001b[0mpred\u001b[0m \u001b[0;34m=\u001b[0m \u001b[0mself\u001b[0m\u001b[0;34m.\u001b[0m\u001b[0mpredict\u001b[0m\u001b[0;34m(\u001b[0m\u001b[0mdtrain\u001b[0m\u001b[0;34m)\u001b[0m\u001b[0;34m\u001b[0m\u001b[0m\n",
      "\u001b[0;31mKeyboardInterrupt\u001b[0m: "
     ]
    }
   ],
   "source": [
    "dtrain = xgb.DMatrix('to_r_n_back/dtrain.data')\n",
    "dval = xgb.DMatrix('to_r_n_back/dtest.data')\n",
    "yval = (pd.read_csv('to_r_n_back/val1_target.csv')).outcome.values\n",
    "dval.set_label(yval)\n",
    "\n",
    "#Trials object where the history of search will be stored\n",
    "trials = Trials()\n",
    "\n",
    "optimize()"
   ]
  },
  {
   "cell_type": "code",
   "execution_count": null,
   "metadata": {
    "collapsed": true
   },
   "outputs": [],
   "source": [
    "df_score = pd.DataFrame(data,columns=['test','val'])\n",
    "df_score.to_csv('tunescores_hyperopt_try10.csv',index=False)\n",
    "\n",
    "os.system('drive upload --file tunescores_hyperopt_try10.csv')\n",
    "os.system('drive upload --file tune_hyperopt_try10.txt')\n",
    "os.system('sudo poweroff')"
   ]
  }
 ],
 "metadata": {
  "anaconda-cloud": {},
  "kernelspec": {
   "display_name": "Python [default]",
   "language": "python",
   "name": "python3"
  },
  "language_info": {
   "codemirror_mode": {
    "name": "ipython",
    "version": 3
   },
   "file_extension": ".py",
   "mimetype": "text/x-python",
   "name": "python",
   "nbconvert_exporter": "python",
   "pygments_lexer": "ipython3",
   "version": "3.5.2"
  }
 },
 "nbformat": 4,
 "nbformat_minor": 1
}
