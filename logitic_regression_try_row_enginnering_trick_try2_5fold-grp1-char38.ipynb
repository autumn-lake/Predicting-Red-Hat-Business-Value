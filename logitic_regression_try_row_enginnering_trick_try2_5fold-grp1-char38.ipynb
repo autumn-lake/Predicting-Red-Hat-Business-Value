{
 "cells": [
  {
   "cell_type": "code",
   "execution_count": 1,
   "metadata": {
    "collapsed": false
   },
   "outputs": [],
   "source": [
    "import numpy as np\n",
    "import pandas as pd\n",
    "import xgboost as xgb\n",
    "from xgboost.sklearn import XGBClassifier\n",
    "\n",
    "from sklearn.preprocessing import OneHotEncoder\n",
    "from sklearn.grid_search import GridSearchCV, RandomizedSearchCV\n",
    "from sklearn.datasets import make_classification\n",
    "from sklearn.cross_validation import StratifiedKFold,KFold,train_test_split\n",
    "from scipy.stats import randint, uniform\n",
    "from sklearn.metrics import roc_auc_score\n",
    "from sklearn.cross_validation import LabelKFold\n",
    "from sklearn.linear_model import LogisticRegression\n",
    "from sklearn.cross_validation import StratifiedKFold\n",
    "from sklearn.metrics import log_loss, roc_auc_score\n",
    "\n",
    "%matplotlib inline\n",
    "import matplotlib.pyplot as plt\n",
    "\n",
    "import datetime\n",
    "import random\n",
    "from operator import itemgetter\n",
    "import time\n",
    "import copy\n",
    "\n",
    "from scipy.io import mmread\n",
    "\n",
    "np.random.seed(333)"
   ]
  },
  {
   "cell_type": "code",
   "execution_count": 2,
   "metadata": {
    "collapsed": true
   },
   "outputs": [],
   "source": [
    "dtrain = (mmread('writemm_sparse_grp1_char38/dtrain_sparse_grp1_char38')).tocsr()\n",
    "dtest = (mmread('writemm_sparse_grp1_char38/dtest_sparse_grp1_char38')).tocsr()\n",
    "\n",
    "act_train_data = pd.read_csv(\"redhat_data_new/act_train_new_try2.csv\",dtype={'people_id': np.str, 'activity_id': np.str, 'outcome': np.int8}, parse_dates=['date'])\n",
    "act_test_data  = pd.read_csv(\"redhat_data_new/act_test_new_try2.csv\", dtype={'people_id': np.str, 'activity_id': np.str}, parse_dates=['date'])\n",
    "people_data    = pd.read_csv(\"redhat_data_new/people.csv\", dtype={'people_id': np.str, 'activity_id': np.str, 'char_38': np.int32}, parse_dates=['date'])"
   ]
  },
  {
   "cell_type": "code",
   "execution_count": 3,
   "metadata": {
    "collapsed": false
   },
   "outputs": [
    {
     "name": "stdout",
     "output_type": "stream",
     "text": [
      "All features: train_data shape (2695978, 15)\n"
     ]
    }
   ],
   "source": [
    "act_test_data['outcome'] = pd.Series([0.5]*(act_test_data.shape[0]))\n",
    "train_data = pd.concat([act_train_data, act_test_data], ignore_index=True)\n",
    "print('All features: train_data shape {}'.format(train_data.shape))"
   ]
  },
  {
   "cell_type": "code",
   "execution_count": 4,
   "metadata": {
    "collapsed": false
   },
   "outputs": [
    {
     "name": "stdout",
     "output_type": "stream",
     "text": [
      "All features: train shape (2695978, 331)\n"
     ]
    }
   ],
   "source": [
    "from scipy.sparse import csr_matrix, hstack, vstack\n",
    "Xtrain = vstack((dtrain, dtest), format='csr')\n",
    "print('All features: train shape {}'.format(Xtrain.shape))"
   ]
  },
  {
   "cell_type": "code",
   "execution_count": 5,
   "metadata": {
    "collapsed": false
   },
   "outputs": [],
   "source": [
    "y1 = [0]*(dtrain.shape[0])\n",
    "y2 = [1]*(dtest.shape[0])\n",
    "y = pd.Series(y1 + y2)\n",
    "from sklearn.preprocessing import LabelEncoder\n",
    "targetencoder = LabelEncoder().fit(y.values)\n",
    "y = targetencoder.transform(y.values)\n",
    "nclasses = len(targetencoder.classes_)"
   ]
  },
  {
   "cell_type": "code",
   "execution_count": 6,
   "metadata": {
    "collapsed": true
   },
   "outputs": [],
   "source": [
    "from sklearn import preprocessing\n",
    "max_abs_scaler = preprocessing.MaxAbsScaler()\n",
    "Xtrain = max_abs_scaler.fit_transform(Xtrain)"
   ]
  },
  {
   "cell_type": "code",
   "execution_count": 7,
   "metadata": {
    "collapsed": true
   },
   "outputs": [],
   "source": [
    "lkf = LabelKFold(train_data['people_id'], n_folds=5)\n",
    "def score(clf, random_state = 444):\n",
    "    #lkf = StratifiedKFold(y, n_folds=10, shuffle=True, random_state=random_state)\n",
    "    pred = np.zeros((y.shape[0],nclasses))\n",
    "    for itrain, itest in lkf:\n",
    "        Xtr, Xte = Xtrain[itrain, :], Xtrain[itest, :]\n",
    "        ytr, yte = y[itrain], y[itest]\n",
    "        clf.fit(Xtr, ytr)\n",
    "        pred[itest,:] = clf.predict_proba(Xte)\n",
    "        # Downsize to one fold only for kernels\n",
    "        print(\"{:.5f}\".format(roc_auc_score(yte, pred[itest,1:])), end=' ')\n",
    "        return roc_auc_score(yte, pred[itest, 1:])\n",
    "    \n",
    "    print(\"score : {:.5f}\".format(roc_auc_score(y, pred[:,1:])), end=' ')\n",
    "    return pred"
   ]
  },
  {
   "cell_type": "code",
   "execution_count": 9,
   "metadata": {
    "collapsed": false
   },
   "outputs": [
    {
     "name": "stdout",
     "output_type": "stream",
     "text": [
      "[  1.00000000e-05   1.27427499e-05   1.62377674e-05   2.06913808e-05\n",
      "   2.63665090e-05   3.35981829e-05   4.28133240e-05   5.45559478e-05\n",
      "   6.95192796e-05   8.85866790e-05   1.12883789e-04   1.43844989e-04\n",
      "   1.83298071e-04   2.33572147e-04   2.97635144e-04   3.79269019e-04\n",
      "   4.83293024e-04   6.15848211e-04   7.84759970e-04   1.00000000e-03]\n",
      "0.78043 0.78221 0.78370 0.78506 0.78613 0.78722 0.78809 0.78896 0.78961 0.79012 0.79050 0.79079 0.79105 0.79111 0.79111 0.79104 0.79092 0.79076 0.79054 0.79049 "
     ]
    },
    {
     "data": {
      "image/png": "[encoded data removed]",
      "text/plain": [
       "<matplotlib.figure.Figure at 0x7f13215c75c0>"
      ]
     },
     "metadata": {},
     "output_type": "display_data"
    }
   ],
   "source": [
    "Cs = np.logspace(-5,-3,20)\n",
    "print(Cs)\n",
    "res = []\n",
    "for C in Cs:\n",
    "    res.append(score(LogisticRegression(C=C, class_weight='balanced', solver='lbfgs', n_jobs=-1)))\n",
    "plt.semilogx(Cs, res,'-o');"
   ]
  },
  {
   "cell_type": "code",
   "execution_count": null,
   "metadata": {
    "collapsed": false
   },
   "outputs": [],
   "source": [
    "preds = score(LogisticRegression(C=9.40444852, class_weight='balanced', solver='lbfgs', n_jobs=-1))"
   ]
  },
  {
   "cell_type": "code",
   "execution_count": null,
   "metadata": {
    "collapsed": true
   },
   "outputs": [],
   "source": []
  }
 ],
 "metadata": {
  "anaconda-cloud": {},
  "kernelspec": {
   "display_name": "Python [default]",
   "language": "python",
   "name": "python3"
  },
  "language_info": {
   "codemirror_mode": {
    "name": "ipython",
    "version": 3
   },
   "file_extension": ".py",
   "mimetype": "text/x-python",
   "name": "python",
   "nbconvert_exporter": "python",
   "pygments_lexer": "ipython3",
   "version": "3.5.2"
  }
 },
 "nbformat": 4,
 "nbformat_minor": 1
}
