{
 "cells": [
  {
   "cell_type": "code",
   "execution_count": 1,
   "metadata": {
    "collapsed": false
   },
   "outputs": [],
   "source": [
    "import numpy as np \n",
    "import pandas as pd\n",
    "import xgboost as xgb\n",
    "from xgboost.sklearn import XGBClassifier\n",
    "\n",
    "from sklearn.preprocessing import OneHotEncoder\n",
    "from sklearn.grid_search import GridSearchCV, RandomizedSearchCV\n",
    "from sklearn.datasets import make_classification\n",
    "from sklearn.cross_validation import StratifiedKFold,KFold,train_test_split\n",
    "from scipy.stats import randint, uniform\n",
    "from sklearn.metrics import roc_auc_score\n",
    "\n",
    "%matplotlib inline\n",
    "import matplotlib.pyplot as plt\n",
    "\n",
    "import datetime\n",
    "import random\n",
    "from operator import itemgetter\n",
    "import time\n",
    "import copy\n",
    "\n",
    "from scipy.io import mmread"
   ]
  },
  {
   "cell_type": "code",
   "execution_count": 2,
   "metadata": {
    "collapsed": true
   },
   "outputs": [],
   "source": [
    "dtrain = (mmread('writemm_sparse/dtrain_sparse')).tocsr()\n",
    "dtest = (mmread('writemm_sparse/dtest_sparse')).tocsr()\n",
    "\n",
    "act_train_data = pd.read_csv(\"redhat_data_new/act_train_new_try2.csv\",dtype={'people_id': np.str, 'activity_id': np.str, 'outcome': np.int8}, parse_dates=['date'])\n",
    "act_test_data  = pd.read_csv(\"redhat_data_new/act_test_new_try2.csv\", dtype={'people_id': np.str, 'activity_id': np.str}, parse_dates=['date'])\n",
    "people_data    = pd.read_csv(\"redhat_data_new/people.csv\", dtype={'people_id': np.str, 'activity_id': np.str, 'char_38': np.int32}, parse_dates=['date'])"
   ]
  },
  {
   "cell_type": "code",
   "execution_count": 3,
   "metadata": {
    "collapsed": false
   },
   "outputs": [
    {
     "name": "stdout",
     "output_type": "stream",
     "text": [
      "All features: train_data shape (2695978, 15)\n"
     ]
    }
   ],
   "source": [
    "act_test_data['outcome'] = pd.Series([0.5]*(act_test_data.shape[0]))\n",
    "train_data = pd.concat([act_train_data, act_test_data], ignore_index=True)\n",
    "print('All features: train_data shape {}'.format(train_data.shape))"
   ]
  },
  {
   "cell_type": "code",
   "execution_count": 4,
   "metadata": {
    "collapsed": false
   },
   "outputs": [
    {
     "name": "stdout",
     "output_type": "stream",
     "text": [
      "All features: train shape (2695978, 14140)\n"
     ]
    }
   ],
   "source": [
    "from scipy.sparse import csr_matrix, hstack, vstack\n",
    "Xtrain = vstack((dtrain, dtest), format='csr')\n",
    "print('All features: train shape {}'.format(Xtrain.shape))"
   ]
  },
  {
   "cell_type": "code",
   "execution_count": 5,
   "metadata": {
    "collapsed": false
   },
   "outputs": [],
   "source": [
    "y1 = [0]*(dtrain.shape[0])\n",
    "y2 = [1]*(dtest.shape[0])\n",
    "y = pd.Series(y1 + y2)\n",
    "from sklearn.preprocessing import LabelEncoder\n",
    "targetencoder = LabelEncoder().fit(y.values)\n",
    "y = targetencoder.transform(y.values)\n",
    "nclasses = len(targetencoder.classes_)"
   ]
  },
  {
   "cell_type": "code",
   "execution_count": 6,
   "metadata": {
    "collapsed": true
   },
   "outputs": [],
   "source": [
    "from sklearn import preprocessing\n",
    "max_abs_scaler = preprocessing.MaxAbsScaler()\n",
    "Xtrain = max_abs_scaler.fit_transform(Xtrain)"
   ]
  },
  {
   "cell_type": "code",
   "execution_count": 44,
   "metadata": {
    "collapsed": false
   },
   "outputs": [
    {
     "ename": "NameError",
     "evalue": "name 'train_data' is not defined",
     "output_type": "error",
     "traceback": [
      "\u001b[0;31m---------------------------------------------------------------------------\u001b[0m",
      "\u001b[0;31mNameError\u001b[0m                                 Traceback (most recent call last)",
      "\u001b[0;32m<ipython-input-44-4caa4636b2d2>\u001b[0m in \u001b[0;36m<module>\u001b[0;34m()\u001b[0m\n\u001b[1;32m      4\u001b[0m \u001b[0;32mfrom\u001b[0m \u001b[0msklearn\u001b[0m\u001b[0;34m.\u001b[0m\u001b[0mmetrics\u001b[0m \u001b[0;32mimport\u001b[0m \u001b[0mlog_loss\u001b[0m\u001b[0;34m,\u001b[0m \u001b[0mroc_auc_score\u001b[0m\u001b[0;34m\u001b[0m\u001b[0m\n\u001b[1;32m      5\u001b[0m \u001b[0mnp\u001b[0m\u001b[0;34m.\u001b[0m\u001b[0mrandom\u001b[0m\u001b[0;34m.\u001b[0m\u001b[0mseed\u001b[0m\u001b[0;34m(\u001b[0m\u001b[0;36m333\u001b[0m\u001b[0;34m)\u001b[0m\u001b[0;34m\u001b[0m\u001b[0m\n\u001b[0;32m----> 6\u001b[0;31m \u001b[0mlkf\u001b[0m \u001b[0;34m=\u001b[0m \u001b[0mLabelKFold\u001b[0m\u001b[0;34m(\u001b[0m\u001b[0mtrain_data\u001b[0m\u001b[0;34m[\u001b[0m\u001b[0;34m'people_id'\u001b[0m\u001b[0;34m]\u001b[0m\u001b[0;34m,\u001b[0m \u001b[0mn_folds\u001b[0m\u001b[0;34m=\u001b[0m\u001b[0;36m5\u001b[0m\u001b[0;34m)\u001b[0m\u001b[0;34m\u001b[0m\u001b[0m\n\u001b[0m",
      "\u001b[0;31mNameError\u001b[0m: name 'train_data' is not defined"
     ]
    }
   ],
   "source": [
    "from sklearn.cross_validation import LabelKFold\n",
    "from sklearn.linear_model import LogisticRegression\n",
    "from sklearn.cross_validation import StratifiedKFold\n",
    "from sklearn.metrics import log_loss, roc_auc_score\n",
    "np.random.seed(333)\n",
    "lkf = LabelKFold(train_data['people_id'], n_folds=5)"
   ]
  },
  {
   "cell_type": "code",
   "execution_count": 43,
   "metadata": {
    "collapsed": true
   },
   "outputs": [],
   "source": [
    "def score(clf, random_state = 23):\n",
    "    #lkf = StratifiedKFold(y, n_folds=10, shuffle=True, random_state=random_state)\n",
    "    pred = np.zeros((y.shape[0],nclasses))\n",
    "    for itrain, itest in lkf:\n",
    "        Xtr, Xte = Xtrain[itrain, :], Xtrain[itest, :]\n",
    "        ytr, yte = y[itrain], y[itest]\n",
    "        clf.fit(Xtr, ytr)\n",
    "        pred[itest,:] = clf.predict_proba(Xte)\n",
    "        # Downsize to one fold only for kernels\n",
    "        print(\"{:.5f}\".format(roc_auc_score(yte, pred[itest,1:])), end=' ')\n",
    "        #return roc_auc_score(yte, pred[itest, 1:])\n",
    "    \n",
    "    print(\"score : {:.5f}\".format(roc_auc_score(y, pred[:,1:])), end=' ')\n",
    "    return roc_auc_score(y, pred[:,1:])"
   ]
  },
  {
   "cell_type": "code",
   "execution_count": 31,
   "metadata": {
    "collapsed": false
   },
   "outputs": [
    {
     "name": "stdout",
     "output_type": "stream",
     "text": [
      "[  1.00000000e-04   2.78255940e-04   7.74263683e-04   2.15443469e-03\n",
      "   5.99484250e-03   1.66810054e-02   4.64158883e-02   1.29154967e-01\n",
      "   3.59381366e-01   1.00000000e+00]\n",
      "folc score 0.89392 folc score 0.89470 folc score 0.89728 folc score 0.90084 folc score 0.90364 folc score 0.90715 folc score 0.90868 folc score 0.91294 folc score 0.91435 folc score 0.91518 "
     ]
    },
    {
     "data": {
      "image/png": "[encoded data removed]",
      "text/plain": [
       "<matplotlib.figure.Figure at 0x7eff8f9eaba8>"
      ]
     },
     "metadata": {},
     "output_type": "display_data"
    }
   ],
   "source": [
    "Cs = np.logspace(-4,0,10)\n",
    "print(Cs)\n",
    "res = []\n",
    "for C in Cs:\n",
    "    res.append(score(LogisticRegression(C = C, class_weight='balanced', solver='lbfgs')))\n",
    "plt.semilogx(Cs, res,'-o');"
   ]
  },
  {
   "cell_type": "code",
   "execution_count": 42,
   "metadata": {
    "collapsed": false
   },
   "outputs": [
    {
     "data": {
      "text/plain": [
       "18157"
      ]
     },
     "execution_count": 42,
     "metadata": {},
     "output_type": "execute_result"
    }
   ],
   "source": [
    "import gc\n",
    "#del train_data\n",
    "del act_train_data\n",
    "del act_test_data\n",
    "del people_data\n",
    "gc.collect()"
   ]
  },
  {
   "cell_type": "code",
   "execution_count": 34,
   "metadata": {
    "collapsed": false
   },
   "outputs": [
    {
     "name": "stdout",
     "output_type": "stream",
     "text": [
      "[    1.             2.15443469     4.64158883    10.            21.5443469\n",
      "    46.41588834   100.           215.443469     464.15888336  1000.        ]\n",
      "0.91518 0.91495 0.91593 0.91718 0.91634 0.91480 0.91651 0.91611 0.91475 0.91421 "
     ]
    },
    {
     "data": {
      "image/png": "[encoded data removed]",
      "text/plain": [
       "<matplotlib.figure.Figure at 0x7eff8fbe77f0>"
      ]
     },
     "metadata": {},
     "output_type": "display_data"
    }
   ],
   "source": [
    "Cs = np.logspace(0,3,10)\n",
    "print(Cs)\n",
    "res = []\n",
    "for C in Cs:\n",
    "    res.append(score(LogisticRegression(C = C, class_weight='balanced', solver='lbfgs')))\n",
    "plt.semilogx(Cs, res,'-o');"
   ]
  },
  {
   "cell_type": "code",
   "execution_count": 40,
   "metadata": {
    "collapsed": false
   },
   "outputs": [
    {
     "data": {
      "text/plain": [
       "0.5"
      ]
     },
     "execution_count": 40,
     "metadata": {},
     "output_type": "execute_result"
    }
   ],
   "source": [
    "roc_auc_score(y, pd.Series([0.]*(Xtrain.shape[0])))"
   ]
  },
  {
   "cell_type": "code",
   "execution_count": 46,
   "metadata": {
    "collapsed": false
   },
   "outputs": [
    {
     "data": {
      "text/plain": [
       "\"\\nCs = np.linspace(9,12,10)\\nprint(Cs)\\nres = []\\nfor C in Cs:\\n    res.append(score(LogisticRegression(C = C, class_weight='balanced', solver='lbfgs', n_jobs=-1)))\\nplt.plot(Cs, res,'-o');\\n\""
      ]
     },
     "execution_count": 46,
     "metadata": {},
     "output_type": "execute_result"
    }
   ],
   "source": [
    "'''\n",
    "Cs = np.linspace(9,12,10)\n",
    "print(Cs)\n",
    "res = []\n",
    "for C in Cs:\n",
    "    res.append(score(LogisticRegression(C = C, class_weight='balanced', solver='lbfgs', n_jobs=-1)))\n",
    "plt.plot(Cs, res,'-o');\n",
    "'''"
   ]
  },
  {
   "cell_type": "code",
   "execution_count": null,
   "metadata": {
    "collapsed": true
   },
   "outputs": [],
   "source": []
  }
 ],
 "metadata": {
  "kernelspec": {
   "display_name": "Python [default]",
   "language": "python",
   "name": "python3"
  },
  "language_info": {
   "codemirror_mode": {
    "name": "ipython",
    "version": 3
   },
   "file_extension": ".py",
   "mimetype": "text/x-python",
   "name": "python",
   "nbconvert_exporter": "python",
   "pygments_lexer": "ipython3",
   "version": "3.5.2"
  }
 },
 "nbformat": 4,
 "nbformat_minor": 1
}
