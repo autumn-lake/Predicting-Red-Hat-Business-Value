{
 "cells": [
  {
   "cell_type": "code",
   "execution_count": 1,
   "metadata": {
    "collapsed": true
   },
   "outputs": [],
   "source": [
    "import numpy as np \n",
    "import pandas as pd\n",
    "import xgboost as xgb\n",
    "from xgboost.sklearn import XGBClassifier\n",
    "from sklearn import preprocessing\n",
    "from sklearn.preprocessing import OneHotEncoder\n",
    "from sklearn.grid_search import GridSearchCV, RandomizedSearchCV\n",
    "from sklearn.datasets import make_classification\n",
    "from sklearn.cross_validation import StratifiedKFold,KFold,train_test_split\n",
    "from scipy.stats import randint, uniform\n",
    "from sklearn.metrics import roc_auc_score\n",
    "\n",
    "np.random.seed(22)\n",
    "import datetime\n",
    "import random\n",
    "from operator import itemgetter\n",
    "import time\n",
    "import copy"
   ]
  },
  {
   "cell_type": "code",
   "execution_count": 4,
   "metadata": {
    "collapsed": false
   },
   "outputs": [],
   "source": [
    "dtrain = xgb.DMatrix('to_r_n_back/dtrain.data')\n",
    "dval = xgb.DMatrix('to_r_n_back/dtest.data')\n",
    "yval = (pd.read_csv('to_r_n_back/val1_target.csv')).outcome.values\n",
    "labels = yval\n",
    "lbl_enc = preprocessing.LabelEncoder()\n",
    "labels = lbl_enc.fit_transform(labels)\n",
    "dval.set_label(labels)"
   ]
  },
  {
   "cell_type": "code",
   "execution_count": 12,
   "metadata": {
    "collapsed": true
   },
   "outputs": [],
   "source": [
    "param = {'objective': 'binary:logistic', \n",
    "         'max_depth': 11, \n",
    "         'gamma': 0.038587401190034704, \n",
    "         'eval_metric': 'auc', \n",
    "         'colsample_bylevel': 0.40883831209377614, \n",
    "         'min_child_weight': 7, \n",
    "         'lambda': 3.480389590147552, \n",
    "         'n_estimators': 100000, \n",
    "         'colsample_bytree': 0.26928766415604755, \n",
    "         'seed': 5, \n",
    "         'alpha': 0.7707414382224765, \n",
    "         'nthread': 4, \n",
    "         'silent': 1, \n",
    "         'subsample': 0.5447189256867526, \n",
    "         'eta': 0.05}"
   ]
  },
  {
   "cell_type": "code",
   "execution_count": 13,
   "metadata": {
    "collapsed": false
   },
   "outputs": [
    {
     "name": "stdout",
     "output_type": "stream",
     "text": [
      "[0]\ttrain-auc:0.923093\teval-auc:0.522593\n",
      "Multiple eval metrics have been passed: 'eval-auc' will be used for early stopping.\n",
      "\n",
      "Will train until eval-auc hasn't improved in 50 rounds.\n",
      "[10]\ttrain-auc:0.950549\teval-auc:0.628519\n",
      "[20]\ttrain-auc:0.955481\teval-auc:0.636656\n",
      "[30]\ttrain-auc:0.959203\teval-auc:0.648139\n",
      "[40]\ttrain-auc:0.96225\teval-auc:0.656799\n",
      "[50]\ttrain-auc:0.964075\teval-auc:0.661581\n",
      "[60]\ttrain-auc:0.965645\teval-auc:0.665197\n",
      "[70]\ttrain-auc:0.96736\teval-auc:0.67181\n",
      "[80]\ttrain-auc:0.968411\teval-auc:0.676265\n",
      "[90]\ttrain-auc:0.969806\teval-auc:0.677998\n",
      "[100]\ttrain-auc:0.970716\teval-auc:0.67919\n",
      "[110]\ttrain-auc:0.971355\teval-auc:0.680881\n",
      "[120]\ttrain-auc:0.972046\teval-auc:0.682143\n",
      "[130]\ttrain-auc:0.972231\teval-auc:0.686029\n",
      "[140]\ttrain-auc:0.972568\teval-auc:0.685422\n",
      "[150]\ttrain-auc:0.972823\teval-auc:0.686412\n",
      "[160]\ttrain-auc:0.973142\teval-auc:0.686651\n",
      "[170]\ttrain-auc:0.97342\teval-auc:0.68611\n",
      "[180]\ttrain-auc:0.973651\teval-auc:0.686501\n",
      "[190]\ttrain-auc:0.973832\teval-auc:0.687325\n",
      "[200]\ttrain-auc:0.974056\teval-auc:0.687003\n",
      "[210]\ttrain-auc:0.974203\teval-auc:0.687529\n",
      "[220]\ttrain-auc:0.974375\teval-auc:0.687702\n",
      "[230]\ttrain-auc:0.974538\teval-auc:0.687325\n",
      "[240]\ttrain-auc:0.974709\teval-auc:0.68738\n",
      "[250]\ttrain-auc:0.974842\teval-auc:0.687672\n",
      "[260]\ttrain-auc:0.974975\teval-auc:0.687828\n",
      "[270]\ttrain-auc:0.97512\teval-auc:0.68869\n",
      "[280]\ttrain-auc:0.975225\teval-auc:0.688625\n",
      "[290]\ttrain-auc:0.975325\teval-auc:0.688624\n",
      "[300]\ttrain-auc:0.975475\teval-auc:0.688498\n",
      "[310]\ttrain-auc:0.975611\teval-auc:0.688573\n",
      "[320]\ttrain-auc:0.975732\teval-auc:0.6889\n",
      "[330]\ttrain-auc:0.975859\teval-auc:0.68895\n",
      "[340]\ttrain-auc:0.975972\teval-auc:0.688756\n",
      "[350]\ttrain-auc:0.976063\teval-auc:0.688751\n",
      "[360]\ttrain-auc:0.976185\teval-auc:0.688677\n",
      "[370]\ttrain-auc:0.976287\teval-auc:0.688381\n",
      "[380]\ttrain-auc:0.976361\teval-auc:0.688482\n",
      "Stopping. Best iteration:\n",
      "[334]\ttrain-auc:0.975913\teval-auc:0.689042\n",
      "\n"
     ]
    }
   ],
   "source": [
    "evals  = [(dtrain, 'train'),(dval, 'eval')]\n",
    "num_round = 100000\n",
    "bst = xgb.train(param, dtrain, num_round, early_stopping_rounds=50, evals=evals, verbose_eval=10)"
   ]
  },
  {
   "cell_type": "code",
   "execution_count": 2,
   "metadata": {
    "collapsed": true
   },
   "outputs": [],
   "source": [
    "dtrain = xgb.DMatrix('svmlight_try2/dtrain.data')\n",
    "dtest = xgb.DMatrix('svmlight_try2/dtest.data')"
   ]
  },
  {
   "cell_type": "code",
   "execution_count": 3,
   "metadata": {
    "collapsed": true
   },
   "outputs": [],
   "source": [
    "act_test_data  = pd.read_csv(\"redhat_data_new/act_test_new_try2.csv\", dtype={'people_id': np.str, 'activity_id': np.str}, parse_dates=['date'])\n",
    "df1 = pd.read_csv('redhat_data_new/Submission_leak_happycube_python.csv')"
   ]
  },
  {
   "cell_type": "code",
   "execution_count": 4,
   "metadata": {
    "collapsed": false
   },
   "outputs": [
    {
     "data": {
      "text/plain": [
       "82155"
      ]
     },
     "execution_count": 4,
     "metadata": {},
     "output_type": "execute_result"
    }
   ],
   "source": [
    "c = list(set(act_test_data.activity_id.unique())&set(df1.activity_id.unique()))\n",
    "len(c)"
   ]
  },
  {
   "cell_type": "code",
   "execution_count": 5,
   "metadata": {
    "collapsed": false
   },
   "outputs": [
    {
     "data": {
      "text/plain": [
       "((82155, 2), (416532, 2))"
      ]
     },
     "execution_count": 5,
     "metadata": {},
     "output_type": "execute_result"
    }
   ],
   "source": [
    "ac = df1.loc[df1['activity_id'].isin(c)]\n",
    "ad = df1.loc[~df1['activity_id'].isin(c)]\n",
    "ac.shape,ad.shape"
   ]
  },
  {
   "cell_type": "code",
   "execution_count": 6,
   "metadata": {
    "collapsed": false
   },
   "outputs": [],
   "source": [
    "ae = ac[(ac.outcome==1)|(ac.outcome==0)]"
   ]
  },
  {
   "cell_type": "code",
   "execution_count": 7,
   "metadata": {
    "collapsed": false
   },
   "outputs": [
    {
     "data": {
      "text/plain": [
       "8730"
      ]
     },
     "execution_count": 7,
     "metadata": {},
     "output_type": "execute_result"
    }
   ],
   "source": [
    "d = list(set(act_test_data.activity_id.unique())&set(ae.activity_id.unique()))\n",
    "len(d)"
   ]
  },
  {
   "cell_type": "code",
   "execution_count": 8,
   "metadata": {
    "collapsed": false
   },
   "outputs": [
    {
     "data": {
      "text/plain": [
       "(8730, 14)"
      ]
     },
     "execution_count": 8,
     "metadata": {},
     "output_type": "execute_result"
    }
   ],
   "source": [
    "af = act_test_data.loc[act_test_data['activity_id'].isin(d)]\n",
    "af.shape"
   ]
  },
  {
   "cell_type": "code",
   "execution_count": 9,
   "metadata": {
    "collapsed": false
   },
   "outputs": [],
   "source": [
    "indx = af.index"
   ]
  },
  {
   "cell_type": "code",
   "execution_count": 10,
   "metadata": {
    "collapsed": false
   },
   "outputs": [],
   "source": [
    "ae.index = ae.activity_id.values"
   ]
  },
  {
   "cell_type": "code",
   "execution_count": 11,
   "metadata": {
    "collapsed": false
   },
   "outputs": [
    {
     "data": {
      "text/html": [
       "<div>\n",
       "<table border=\"1\" class=\"dataframe\">\n",
       "  <thead>\n",
       "    <tr style=\"text-align: right;\">\n",
       "      <th></th>\n",
       "      <th>activity_id</th>\n",
       "      <th>outcome</th>\n",
       "    </tr>\n",
       "  </thead>\n",
       "  <tbody>\n",
       "    <tr>\n",
       "      <th>act2_1012472</th>\n",
       "      <td>act2_1012472</td>\n",
       "      <td>0.0</td>\n",
       "    </tr>\n",
       "    <tr>\n",
       "      <th>act2_1058853</th>\n",
       "      <td>act2_1058853</td>\n",
       "      <td>1.0</td>\n",
       "    </tr>\n",
       "    <tr>\n",
       "      <th>act2_1169467</th>\n",
       "      <td>act2_1169467</td>\n",
       "      <td>1.0</td>\n",
       "    </tr>\n",
       "    <tr>\n",
       "      <th>act2_1661559</th>\n",
       "      <td>act2_1661559</td>\n",
       "      <td>1.0</td>\n",
       "    </tr>\n",
       "    <tr>\n",
       "      <th>act2_1832319</th>\n",
       "      <td>act2_1832319</td>\n",
       "      <td>1.0</td>\n",
       "    </tr>\n",
       "  </tbody>\n",
       "</table>\n",
       "</div>"
      ],
      "text/plain": [
       "               activity_id  outcome\n",
       "act2_1012472  act2_1012472      0.0\n",
       "act2_1058853  act2_1058853      1.0\n",
       "act2_1169467  act2_1169467      1.0\n",
       "act2_1661559  act2_1661559      1.0\n",
       "act2_1832319  act2_1832319      1.0"
      ]
     },
     "execution_count": 11,
     "metadata": {},
     "output_type": "execute_result"
    }
   ],
   "source": [
    "ae.head()"
   ]
  },
  {
   "cell_type": "code",
   "execution_count": 12,
   "metadata": {
    "collapsed": false
   },
   "outputs": [
    {
     "data": {
      "text/html": [
       "<div>\n",
       "<table border=\"1\" class=\"dataframe\">\n",
       "  <thead>\n",
       "    <tr style=\"text-align: right;\">\n",
       "      <th></th>\n",
       "      <th>people_id</th>\n",
       "      <th>activity_id</th>\n",
       "      <th>date</th>\n",
       "      <th>activity_category</th>\n",
       "      <th>char_1</th>\n",
       "      <th>char_2</th>\n",
       "      <th>char_3</th>\n",
       "      <th>char_4</th>\n",
       "      <th>char_5</th>\n",
       "      <th>char_6</th>\n",
       "      <th>char_7</th>\n",
       "      <th>char_8</th>\n",
       "      <th>char_9</th>\n",
       "      <th>char_10</th>\n",
       "    </tr>\n",
       "  </thead>\n",
       "  <tbody>\n",
       "    <tr>\n",
       "      <th>act2_4091938</th>\n",
       "      <td>ppl_101994</td>\n",
       "      <td>act2_4091938</td>\n",
       "      <td>2023-01-13</td>\n",
       "      <td>type 5</td>\n",
       "      <td>NaN</td>\n",
       "      <td>NaN</td>\n",
       "      <td>NaN</td>\n",
       "      <td>NaN</td>\n",
       "      <td>NaN</td>\n",
       "      <td>NaN</td>\n",
       "      <td>NaN</td>\n",
       "      <td>NaN</td>\n",
       "      <td>NaN</td>\n",
       "      <td>type 2290</td>\n",
       "    </tr>\n",
       "    <tr>\n",
       "      <th>act2_439818</th>\n",
       "      <td>ppl_101994</td>\n",
       "      <td>act2_439818</td>\n",
       "      <td>2023-01-03</td>\n",
       "      <td>type 5</td>\n",
       "      <td>NaN</td>\n",
       "      <td>NaN</td>\n",
       "      <td>NaN</td>\n",
       "      <td>NaN</td>\n",
       "      <td>NaN</td>\n",
       "      <td>NaN</td>\n",
       "      <td>NaN</td>\n",
       "      <td>NaN</td>\n",
       "      <td>NaN</td>\n",
       "      <td>type 2290</td>\n",
       "    </tr>\n",
       "    <tr>\n",
       "      <th>act2_447050</th>\n",
       "      <td>ppl_101994</td>\n",
       "      <td>act2_447050</td>\n",
       "      <td>2023-01-01</td>\n",
       "      <td>type 5</td>\n",
       "      <td>NaN</td>\n",
       "      <td>NaN</td>\n",
       "      <td>NaN</td>\n",
       "      <td>NaN</td>\n",
       "      <td>NaN</td>\n",
       "      <td>NaN</td>\n",
       "      <td>NaN</td>\n",
       "      <td>NaN</td>\n",
       "      <td>NaN</td>\n",
       "      <td>type 2290</td>\n",
       "    </tr>\n",
       "    <tr>\n",
       "      <th>act2_4474309</th>\n",
       "      <td>ppl_101994</td>\n",
       "      <td>act2_4474309</td>\n",
       "      <td>2023-01-03</td>\n",
       "      <td>type 3</td>\n",
       "      <td>NaN</td>\n",
       "      <td>NaN</td>\n",
       "      <td>NaN</td>\n",
       "      <td>NaN</td>\n",
       "      <td>NaN</td>\n",
       "      <td>NaN</td>\n",
       "      <td>NaN</td>\n",
       "      <td>NaN</td>\n",
       "      <td>NaN</td>\n",
       "      <td>type 835</td>\n",
       "    </tr>\n",
       "    <tr>\n",
       "      <th>act2_4478764</th>\n",
       "      <td>ppl_101994</td>\n",
       "      <td>act2_4478764</td>\n",
       "      <td>2023-08-18</td>\n",
       "      <td>type 4</td>\n",
       "      <td>NaN</td>\n",
       "      <td>NaN</td>\n",
       "      <td>NaN</td>\n",
       "      <td>NaN</td>\n",
       "      <td>NaN</td>\n",
       "      <td>NaN</td>\n",
       "      <td>NaN</td>\n",
       "      <td>NaN</td>\n",
       "      <td>NaN</td>\n",
       "      <td>type 633</td>\n",
       "    </tr>\n",
       "  </tbody>\n",
       "</table>\n",
       "</div>"
      ],
      "text/plain": [
       "               people_id   activity_id       date activity_category char_1  \\\n",
       "act2_4091938  ppl_101994  act2_4091938 2023-01-13            type 5    NaN   \n",
       "act2_439818   ppl_101994   act2_439818 2023-01-03            type 5    NaN   \n",
       "act2_447050   ppl_101994   act2_447050 2023-01-01            type 5    NaN   \n",
       "act2_4474309  ppl_101994  act2_4474309 2023-01-03            type 3    NaN   \n",
       "act2_4478764  ppl_101994  act2_4478764 2023-08-18            type 4    NaN   \n",
       "\n",
       "             char_2 char_3 char_4 char_5 char_6 char_7 char_8 char_9  \\\n",
       "act2_4091938    NaN    NaN    NaN    NaN    NaN    NaN    NaN    NaN   \n",
       "act2_439818     NaN    NaN    NaN    NaN    NaN    NaN    NaN    NaN   \n",
       "act2_447050     NaN    NaN    NaN    NaN    NaN    NaN    NaN    NaN   \n",
       "act2_4474309    NaN    NaN    NaN    NaN    NaN    NaN    NaN    NaN   \n",
       "act2_4478764    NaN    NaN    NaN    NaN    NaN    NaN    NaN    NaN   \n",
       "\n",
       "                char_10  \n",
       "act2_4091938  type 2290  \n",
       "act2_439818   type 2290  \n",
       "act2_447050   type 2290  \n",
       "act2_4474309   type 835  \n",
       "act2_4478764   type 633  "
      ]
     },
     "execution_count": 12,
     "metadata": {},
     "output_type": "execute_result"
    }
   ],
   "source": [
    "af.index = af.activity_id.values\n",
    "af.head()"
   ]
  },
  {
   "cell_type": "code",
   "execution_count": 13,
   "metadata": {
    "collapsed": false
   },
   "outputs": [
    {
     "data": {
      "text/html": [
       "<div>\n",
       "<table border=\"1\" class=\"dataframe\">\n",
       "  <thead>\n",
       "    <tr style=\"text-align: right;\">\n",
       "      <th></th>\n",
       "      <th>activity_id</th>\n",
       "      <th>outcome</th>\n",
       "    </tr>\n",
       "  </thead>\n",
       "  <tbody>\n",
       "    <tr>\n",
       "      <th>act2_4091938</th>\n",
       "      <td>act2_4091938</td>\n",
       "      <td>0.0</td>\n",
       "    </tr>\n",
       "    <tr>\n",
       "      <th>act2_439818</th>\n",
       "      <td>act2_439818</td>\n",
       "      <td>1.0</td>\n",
       "    </tr>\n",
       "    <tr>\n",
       "      <th>act2_447050</th>\n",
       "      <td>act2_447050</td>\n",
       "      <td>1.0</td>\n",
       "    </tr>\n",
       "    <tr>\n",
       "      <th>act2_4474309</th>\n",
       "      <td>act2_4474309</td>\n",
       "      <td>1.0</td>\n",
       "    </tr>\n",
       "    <tr>\n",
       "      <th>act2_4478764</th>\n",
       "      <td>act2_4478764</td>\n",
       "      <td>1.0</td>\n",
       "    </tr>\n",
       "  </tbody>\n",
       "</table>\n",
       "</div>"
      ],
      "text/plain": [
       "               activity_id  outcome\n",
       "act2_4091938  act2_4091938      0.0\n",
       "act2_439818    act2_439818      1.0\n",
       "act2_447050    act2_447050      1.0\n",
       "act2_4474309  act2_4474309      1.0\n",
       "act2_4478764  act2_4478764      1.0"
      ]
     },
     "execution_count": 13,
     "metadata": {},
     "output_type": "execute_result"
    }
   ],
   "source": [
    "ag = ae.ix[af.index]\n",
    "ag.head()"
   ]
  },
  {
   "cell_type": "code",
   "execution_count": 14,
   "metadata": {
    "collapsed": false
   },
   "outputs": [
    {
     "data": {
      "text/html": [
       "<div>\n",
       "<table border=\"1\" class=\"dataframe\">\n",
       "  <thead>\n",
       "    <tr style=\"text-align: right;\">\n",
       "      <th></th>\n",
       "      <th>activity_id</th>\n",
       "      <th>outcome</th>\n",
       "    </tr>\n",
       "  </thead>\n",
       "  <tbody>\n",
       "    <tr>\n",
       "      <th>451</th>\n",
       "      <td>act2_4091938</td>\n",
       "      <td>0.0</td>\n",
       "    </tr>\n",
       "    <tr>\n",
       "      <th>456</th>\n",
       "      <td>act2_439818</td>\n",
       "      <td>1.0</td>\n",
       "    </tr>\n",
       "    <tr>\n",
       "      <th>457</th>\n",
       "      <td>act2_447050</td>\n",
       "      <td>1.0</td>\n",
       "    </tr>\n",
       "    <tr>\n",
       "      <th>458</th>\n",
       "      <td>act2_4474309</td>\n",
       "      <td>1.0</td>\n",
       "    </tr>\n",
       "    <tr>\n",
       "      <th>459</th>\n",
       "      <td>act2_4478764</td>\n",
       "      <td>1.0</td>\n",
       "    </tr>\n",
       "  </tbody>\n",
       "</table>\n",
       "</div>"
      ],
      "text/plain": [
       "      activity_id  outcome\n",
       "451  act2_4091938      0.0\n",
       "456   act2_439818      1.0\n",
       "457   act2_447050      1.0\n",
       "458  act2_4474309      1.0\n",
       "459  act2_4478764      1.0"
      ]
     },
     "execution_count": 14,
     "metadata": {},
     "output_type": "execute_result"
    }
   ],
   "source": [
    "ag.index = indx\n",
    "ag.head()"
   ]
  },
  {
   "cell_type": "code",
   "execution_count": 15,
   "metadata": {
    "collapsed": true
   },
   "outputs": [],
   "source": [
    "ae.reset_index(drop=True,inplace=True)"
   ]
  },
  {
   "cell_type": "code",
   "execution_count": 16,
   "metadata": {
    "collapsed": false
   },
   "outputs": [
    {
     "data": {
      "text/html": [
       "<div>\n",
       "<table border=\"1\" class=\"dataframe\">\n",
       "  <thead>\n",
       "    <tr style=\"text-align: right;\">\n",
       "      <th></th>\n",
       "      <th>people_id</th>\n",
       "      <th>activity_id</th>\n",
       "      <th>date</th>\n",
       "      <th>activity_category</th>\n",
       "      <th>char_1</th>\n",
       "      <th>char_2</th>\n",
       "      <th>char_3</th>\n",
       "      <th>char_4</th>\n",
       "      <th>char_5</th>\n",
       "      <th>char_6</th>\n",
       "      <th>char_7</th>\n",
       "      <th>char_8</th>\n",
       "      <th>char_9</th>\n",
       "      <th>char_10</th>\n",
       "    </tr>\n",
       "  </thead>\n",
       "  <tbody>\n",
       "    <tr>\n",
       "      <th>0</th>\n",
       "      <td>ppl_100179</td>\n",
       "      <td>act2_2277070</td>\n",
       "      <td>2022-09-02</td>\n",
       "      <td>type 3</td>\n",
       "      <td>NaN</td>\n",
       "      <td>NaN</td>\n",
       "      <td>NaN</td>\n",
       "      <td>NaN</td>\n",
       "      <td>NaN</td>\n",
       "      <td>NaN</td>\n",
       "      <td>NaN</td>\n",
       "      <td>NaN</td>\n",
       "      <td>NaN</td>\n",
       "      <td>type 23</td>\n",
       "    </tr>\n",
       "    <tr>\n",
       "      <th>1</th>\n",
       "      <td>ppl_100179</td>\n",
       "      <td>act2_3152044</td>\n",
       "      <td>2022-09-02</td>\n",
       "      <td>type 2</td>\n",
       "      <td>NaN</td>\n",
       "      <td>NaN</td>\n",
       "      <td>NaN</td>\n",
       "      <td>NaN</td>\n",
       "      <td>NaN</td>\n",
       "      <td>NaN</td>\n",
       "      <td>NaN</td>\n",
       "      <td>NaN</td>\n",
       "      <td>NaN</td>\n",
       "      <td>type 1</td>\n",
       "    </tr>\n",
       "    <tr>\n",
       "      <th>2</th>\n",
       "      <td>ppl_100322</td>\n",
       "      <td>act2_927116</td>\n",
       "      <td>2023-01-24</td>\n",
       "      <td>type 2</td>\n",
       "      <td>NaN</td>\n",
       "      <td>NaN</td>\n",
       "      <td>NaN</td>\n",
       "      <td>NaN</td>\n",
       "      <td>NaN</td>\n",
       "      <td>NaN</td>\n",
       "      <td>NaN</td>\n",
       "      <td>NaN</td>\n",
       "      <td>NaN</td>\n",
       "      <td>type 1</td>\n",
       "    </tr>\n",
       "    <tr>\n",
       "      <th>3</th>\n",
       "      <td>ppl_100322</td>\n",
       "      <td>act2_534352</td>\n",
       "      <td>2023-01-24</td>\n",
       "      <td>type 2</td>\n",
       "      <td>NaN</td>\n",
       "      <td>NaN</td>\n",
       "      <td>NaN</td>\n",
       "      <td>NaN</td>\n",
       "      <td>NaN</td>\n",
       "      <td>NaN</td>\n",
       "      <td>NaN</td>\n",
       "      <td>NaN</td>\n",
       "      <td>NaN</td>\n",
       "      <td>type 1</td>\n",
       "    </tr>\n",
       "    <tr>\n",
       "      <th>4</th>\n",
       "      <td>ppl_100322</td>\n",
       "      <td>act2_471550</td>\n",
       "      <td>2023-01-11</td>\n",
       "      <td>type 2</td>\n",
       "      <td>NaN</td>\n",
       "      <td>NaN</td>\n",
       "      <td>NaN</td>\n",
       "      <td>NaN</td>\n",
       "      <td>NaN</td>\n",
       "      <td>NaN</td>\n",
       "      <td>NaN</td>\n",
       "      <td>NaN</td>\n",
       "      <td>NaN</td>\n",
       "      <td>type 1</td>\n",
       "    </tr>\n",
       "  </tbody>\n",
       "</table>\n",
       "</div>"
      ],
      "text/plain": [
       "    people_id   activity_id       date activity_category char_1 char_2 char_3  \\\n",
       "0  ppl_100179  act2_2277070 2022-09-02            type 3    NaN    NaN    NaN   \n",
       "1  ppl_100179  act2_3152044 2022-09-02            type 2    NaN    NaN    NaN   \n",
       "2  ppl_100322   act2_927116 2023-01-24            type 2    NaN    NaN    NaN   \n",
       "3  ppl_100322   act2_534352 2023-01-24            type 2    NaN    NaN    NaN   \n",
       "4  ppl_100322   act2_471550 2023-01-11            type 2    NaN    NaN    NaN   \n",
       "\n",
       "  char_4 char_5 char_6 char_7 char_8 char_9  char_10  \n",
       "0    NaN    NaN    NaN    NaN    NaN    NaN  type 23  \n",
       "1    NaN    NaN    NaN    NaN    NaN    NaN   type 1  \n",
       "2    NaN    NaN    NaN    NaN    NaN    NaN   type 1  \n",
       "3    NaN    NaN    NaN    NaN    NaN    NaN   type 1  \n",
       "4    NaN    NaN    NaN    NaN    NaN    NaN   type 1  "
      ]
     },
     "execution_count": 16,
     "metadata": {},
     "output_type": "execute_result"
    }
   ],
   "source": [
    "act_test_data.head()"
   ]
  },
  {
   "cell_type": "code",
   "execution_count": 17,
   "metadata": {
    "collapsed": false
   },
   "outputs": [
    {
     "data": {
      "text/plain": [
       "array([], dtype=float32)"
      ]
     },
     "execution_count": 17,
     "metadata": {},
     "output_type": "execute_result"
    }
   ],
   "source": [
    "dtest.slice(indx).get_label()"
   ]
  },
  {
   "cell_type": "code",
   "execution_count": 20,
   "metadata": {
    "collapsed": false
   },
   "outputs": [
    {
     "name": "stdout",
     "output_type": "stream",
     "text": [
      "[0]\ttrain-auc:0.908158\teval-auc:0.505321\n",
      "Multiple eval metrics have been passed: 'eval-auc' will be used for early stopping.\n",
      "\n",
      "Will train until eval-auc hasn't improved in 200 rounds.\n",
      "[10]\ttrain-auc:0.957492\teval-auc:0.571991\n",
      "[20]\ttrain-auc:0.965017\teval-auc:0.580533\n",
      "[30]\ttrain-auc:0.967387\teval-auc:0.592774\n",
      "[40]\ttrain-auc:0.968815\teval-auc:0.613871\n",
      "[50]\ttrain-auc:0.969848\teval-auc:0.613001\n",
      "[60]\ttrain-auc:0.970632\teval-auc:0.616749\n",
      "[70]\ttrain-auc:0.971198\teval-auc:0.61235\n",
      "[80]\ttrain-auc:0.971735\teval-auc:0.613916\n",
      "[90]\ttrain-auc:0.972309\teval-auc:0.619753\n",
      "[100]\ttrain-auc:0.972774\teval-auc:0.623228\n",
      "[110]\ttrain-auc:0.973174\teval-auc:0.628667\n",
      "[120]\ttrain-auc:0.973567\teval-auc:0.63815\n",
      "[130]\ttrain-auc:0.974325\teval-auc:0.641739\n",
      "[140]\ttrain-auc:0.97466\teval-auc:0.643106\n",
      "[150]\ttrain-auc:0.974987\teval-auc:0.641661\n",
      "[160]\ttrain-auc:0.975269\teval-auc:0.644565\n",
      "[170]\ttrain-auc:0.97589\teval-auc:0.649404\n",
      "[180]\ttrain-auc:0.97611\teval-auc:0.653021\n",
      "[190]\ttrain-auc:0.9764\teval-auc:0.652408\n",
      "[200]\ttrain-auc:0.976755\teval-auc:0.655237\n",
      "[210]\ttrain-auc:0.976966\teval-auc:0.655883\n",
      "[220]\ttrain-auc:0.97715\teval-auc:0.656232\n",
      "[230]\ttrain-auc:0.977333\teval-auc:0.655214\n",
      "[240]\ttrain-auc:0.97775\teval-auc:0.657638\n",
      "[250]\ttrain-auc:0.978032\teval-auc:0.659418\n",
      "[260]\ttrain-auc:0.978436\teval-auc:0.662382\n",
      "[270]\ttrain-auc:0.978773\teval-auc:0.668008\n",
      "[280]\ttrain-auc:0.978925\teval-auc:0.668141\n",
      "[290]\ttrain-auc:0.979271\teval-auc:0.67373\n",
      "[300]\ttrain-auc:0.979418\teval-auc:0.674217\n",
      "[310]\ttrain-auc:0.97975\teval-auc:0.675967\n",
      "[320]\ttrain-auc:0.979887\teval-auc:0.677829\n",
      "[330]\ttrain-auc:0.980015\teval-auc:0.678294\n",
      "[340]\ttrain-auc:0.980563\teval-auc:0.679947\n",
      "[350]\ttrain-auc:0.980664\teval-auc:0.679507\n",
      "[360]\ttrain-auc:0.980776\teval-auc:0.679768\n",
      "[370]\ttrain-auc:0.980881\teval-auc:0.68181\n",
      "[380]\ttrain-auc:0.980988\teval-auc:0.684985\n",
      "[390]\ttrain-auc:0.981088\teval-auc:0.684459\n",
      "[400]\ttrain-auc:0.981187\teval-auc:0.686884\n",
      "[410]\ttrain-auc:0.98129\teval-auc:0.687144\n",
      "[420]\ttrain-auc:0.98137\teval-auc:0.68731\n",
      "[430]\ttrain-auc:0.981506\teval-auc:0.688827\n",
      "[440]\ttrain-auc:0.981674\teval-auc:0.685497\n",
      "[450]\ttrain-auc:0.981941\teval-auc:0.687489\n",
      "[460]\ttrain-auc:0.98203\teval-auc:0.687122\n",
      "[470]\ttrain-auc:0.982218\teval-auc:0.686425\n",
      "[480]\ttrain-auc:0.982314\teval-auc:0.686108\n",
      "[490]\ttrain-auc:0.982394\teval-auc:0.686755\n",
      "[500]\ttrain-auc:0.982732\teval-auc:0.697506\n",
      "[510]\ttrain-auc:0.982822\teval-auc:0.697938\n",
      "[520]\ttrain-auc:0.982964\teval-auc:0.698811\n",
      "[530]\ttrain-auc:0.983045\teval-auc:0.698373\n",
      "[540]\ttrain-auc:0.983175\teval-auc:0.699162\n",
      "[550]\ttrain-auc:0.98324\teval-auc:0.697332\n",
      "[560]\ttrain-auc:0.983395\teval-auc:0.699005\n",
      "[570]\ttrain-auc:0.98349\teval-auc:0.699171\n",
      "[580]\ttrain-auc:0.983555\teval-auc:0.69915\n",
      "[590]\ttrain-auc:0.984034\teval-auc:0.698665\n",
      "[600]\ttrain-auc:0.984121\teval-auc:0.698686\n",
      "[610]\ttrain-auc:0.984186\teval-auc:0.699474\n",
      "[620]\ttrain-auc:0.984323\teval-auc:0.699893\n",
      "[630]\ttrain-auc:0.984546\teval-auc:0.699459\n",
      "[640]\ttrain-auc:0.984615\teval-auc:0.700221\n",
      "[650]\ttrain-auc:0.984859\teval-auc:0.704226\n",
      "[660]\ttrain-auc:0.984936\teval-auc:0.705883\n",
      "[670]\ttrain-auc:0.985\teval-auc:0.705119\n",
      "[680]\ttrain-auc:0.98515\teval-auc:0.70169\n",
      "[690]\ttrain-auc:0.985209\teval-auc:0.702479\n",
      "[700]\ttrain-auc:0.985272\teval-auc:0.702879\n",
      "[710]\ttrain-auc:0.98532\teval-auc:0.703605\n",
      "[720]\ttrain-auc:0.985364\teval-auc:0.704374\n",
      "[730]\ttrain-auc:0.985404\teval-auc:0.706062\n",
      "[740]\ttrain-auc:0.98549\teval-auc:0.705499\n",
      "[750]\ttrain-auc:0.985535\teval-auc:0.705507\n",
      "[760]\ttrain-auc:0.985612\teval-auc:0.705802\n",
      "[770]\ttrain-auc:0.985781\teval-auc:0.709134\n",
      "[780]\ttrain-auc:0.985861\teval-auc:0.709575\n",
      "[790]\ttrain-auc:0.986162\teval-auc:0.711143\n",
      "[800]\ttrain-auc:0.986233\teval-auc:0.710547\n",
      "[810]\ttrain-auc:0.986291\teval-auc:0.710415\n",
      "[820]\ttrain-auc:0.986347\teval-auc:0.710985\n",
      "[830]\ttrain-auc:0.986446\teval-auc:0.711763\n",
      "[840]\ttrain-auc:0.986486\teval-auc:0.711763\n",
      "[850]\ttrain-auc:0.986524\teval-auc:0.71179\n",
      "[860]\ttrain-auc:0.986644\teval-auc:0.711935\n",
      "[870]\ttrain-auc:0.986678\teval-auc:0.712905\n",
      "[880]\ttrain-auc:0.986718\teval-auc:0.713273\n",
      "[890]\ttrain-auc:0.986771\teval-auc:0.714054\n",
      "[900]\ttrain-auc:0.98685\teval-auc:0.714961\n",
      "[910]\ttrain-auc:0.986889\teval-auc:0.71497\n",
      "[920]\ttrain-auc:0.986936\teval-auc:0.715288\n",
      "[930]\ttrain-auc:0.986973\teval-auc:0.715409\n",
      "[940]\ttrain-auc:0.987019\teval-auc:0.715744\n",
      "[950]\ttrain-auc:0.987194\teval-auc:0.708126\n",
      "[960]\ttrain-auc:0.987293\teval-auc:0.716278\n",
      "[970]\ttrain-auc:0.987555\teval-auc:0.717897\n",
      "[980]\ttrain-auc:0.98766\teval-auc:0.718255\n",
      "[990]\ttrain-auc:0.987705\teval-auc:0.718695\n",
      "[1000]\ttrain-auc:0.987774\teval-auc:0.71928\n",
      "[1010]\ttrain-auc:0.987879\teval-auc:0.719693\n",
      "[1020]\ttrain-auc:0.987953\teval-auc:0.719066\n",
      "[1030]\ttrain-auc:0.988073\teval-auc:0.719129\n",
      "[1040]\ttrain-auc:0.988195\teval-auc:0.717853\n",
      "[1050]\ttrain-auc:0.988364\teval-auc:0.715339\n",
      "[1060]\ttrain-auc:0.988401\teval-auc:0.715416\n",
      "[1070]\ttrain-auc:0.988427\teval-auc:0.715587\n",
      "[1080]\ttrain-auc:0.988454\teval-auc:0.715946\n",
      "[1090]\ttrain-auc:0.988491\teval-auc:0.715484\n",
      "[1100]\ttrain-auc:0.988571\teval-auc:0.714779\n",
      "[1110]\ttrain-auc:0.988604\teval-auc:0.714409\n",
      "[1120]\ttrain-auc:0.98868\teval-auc:0.71596\n",
      "[1130]\ttrain-auc:0.988733\teval-auc:0.717063\n",
      "[1140]\ttrain-auc:0.988793\teval-auc:0.719762\n",
      "[1150]\ttrain-auc:0.988821\teval-auc:0.72097\n",
      "[1160]\ttrain-auc:0.988865\teval-auc:0.722032\n",
      "[1170]\ttrain-auc:0.988915\teval-auc:0.723435\n",
      "[1180]\ttrain-auc:0.988936\teval-auc:0.723642\n",
      "[1190]\ttrain-auc:0.988997\teval-auc:0.723444\n",
      "[1200]\ttrain-auc:0.989039\teval-auc:0.722833\n",
      "[1210]\ttrain-auc:0.989063\teval-auc:0.723363\n",
      "[1220]\ttrain-auc:0.98909\teval-auc:0.723686\n",
      "[1230]\ttrain-auc:0.989124\teval-auc:0.723971\n",
      "[1240]\ttrain-auc:0.989227\teval-auc:0.723066\n",
      "[1250]\ttrain-auc:0.989279\teval-auc:0.721987\n",
      "[1260]\ttrain-auc:0.989333\teval-auc:0.723898\n",
      "[1270]\ttrain-auc:0.989351\teval-auc:0.724337\n",
      "[1280]\ttrain-auc:0.989405\teval-auc:0.723701\n",
      "[1290]\ttrain-auc:0.989437\teval-auc:0.723075\n",
      "[1300]\ttrain-auc:0.989487\teval-auc:0.724021\n",
      "[1310]\ttrain-auc:0.98954\teval-auc:0.722107\n",
      "[1320]\ttrain-auc:0.989552\teval-auc:0.72209\n",
      "[1330]\ttrain-auc:0.989573\teval-auc:0.722961\n",
      "[1340]\ttrain-auc:0.989868\teval-auc:0.726014\n",
      "[1350]\ttrain-auc:0.989933\teval-auc:0.726281\n",
      "[1360]\ttrain-auc:0.989988\teval-auc:0.726393\n",
      "[1370]\ttrain-auc:0.990013\teval-auc:0.726348\n",
      "[1380]\ttrain-auc:0.990096\teval-auc:0.729558\n",
      "[1390]\ttrain-auc:0.990127\teval-auc:0.727479\n",
      "[1400]\ttrain-auc:0.990197\teval-auc:0.728361\n",
      "[1410]\ttrain-auc:0.990237\teval-auc:0.73058\n",
      "[1420]\ttrain-auc:0.990252\teval-auc:0.730823\n",
      "[1430]\ttrain-auc:0.990266\teval-auc:0.731575\n",
      "[1440]\ttrain-auc:0.990362\teval-auc:0.730219\n",
      "[1450]\ttrain-auc:0.990496\teval-auc:0.730217\n",
      "[1460]\ttrain-auc:0.990528\teval-auc:0.730324\n",
      "[1470]\ttrain-auc:0.990555\teval-auc:0.73134\n",
      "[1480]\ttrain-auc:0.990681\teval-auc:0.735476\n",
      "[1490]\ttrain-auc:0.990735\teval-auc:0.73694\n",
      "[1500]\ttrain-auc:0.990775\teval-auc:0.737248\n",
      "[1510]\ttrain-auc:0.990831\teval-auc:0.737379\n",
      "[1520]\ttrain-auc:0.990923\teval-auc:0.737438\n",
      "[1530]\ttrain-auc:0.991056\teval-auc:0.739516\n",
      "[1540]\ttrain-auc:0.991191\teval-auc:0.739369\n",
      "[1550]\ttrain-auc:0.99122\teval-auc:0.739478\n",
      "[1560]\ttrain-auc:0.991289\teval-auc:0.740299\n",
      "[1570]\ttrain-auc:0.991312\teval-auc:0.739997\n",
      "[1580]\ttrain-auc:0.991378\teval-auc:0.740247\n",
      "[1590]\ttrain-auc:0.991444\teval-auc:0.738044\n",
      "[1600]\ttrain-auc:0.991516\teval-auc:0.742738\n",
      "[1610]\ttrain-auc:0.991561\teval-auc:0.745839\n",
      "[1620]\ttrain-auc:0.991653\teval-auc:0.745569\n",
      "[1630]\ttrain-auc:0.991772\teval-auc:0.750333\n",
      "[1640]\ttrain-auc:0.991796\teval-auc:0.757548\n",
      "[1650]\ttrain-auc:0.991891\teval-auc:0.757337\n",
      "[1660]\ttrain-auc:0.991966\teval-auc:0.758046\n",
      "[1670]\ttrain-auc:0.991986\teval-auc:0.758094\n",
      "[1680]\ttrain-auc:0.992013\teval-auc:0.758029\n",
      "[1690]\ttrain-auc:0.992084\teval-auc:0.756361\n",
      "[1700]\ttrain-auc:0.992145\teval-auc:0.755522\n",
      "[1710]\ttrain-auc:0.992181\teval-auc:0.755433\n",
      "[1720]\ttrain-auc:0.992208\teval-auc:0.754732\n",
      "[1730]\ttrain-auc:0.992299\teval-auc:0.756273\n",
      "[1740]\ttrain-auc:0.992371\teval-auc:0.755451\n",
      "[1750]\ttrain-auc:0.992404\teval-auc:0.757415\n",
      "[1760]\ttrain-auc:0.992436\teval-auc:0.757605\n",
      "[1770]\ttrain-auc:0.992522\teval-auc:0.75971\n",
      "[1780]\ttrain-auc:0.992594\teval-auc:0.758195\n",
      "[1790]\ttrain-auc:0.992617\teval-auc:0.7589\n",
      "[1800]\ttrain-auc:0.992715\teval-auc:0.760954\n",
      "[1810]\ttrain-auc:0.992765\teval-auc:0.762433\n",
      "[1820]\ttrain-auc:0.992814\teval-auc:0.762839\n",
      "[1830]\ttrain-auc:0.992852\teval-auc:0.763293\n",
      "[1840]\ttrain-auc:0.992886\teval-auc:0.763027\n",
      "[1850]\ttrain-auc:0.992953\teval-auc:0.761715\n",
      "[1860]\ttrain-auc:0.993006\teval-auc:0.763432\n",
      "[1870]\ttrain-auc:0.993046\teval-auc:0.762523\n",
      "[1880]\ttrain-auc:0.9931\teval-auc:0.762855\n",
      "[1890]\ttrain-auc:0.993131\teval-auc:0.762865\n",
      "[1900]\ttrain-auc:0.993157\teval-auc:0.763059\n",
      "[1910]\ttrain-auc:0.99323\teval-auc:0.765934\n",
      "[1920]\ttrain-auc:0.993286\teval-auc:0.764557\n",
      "[1930]\ttrain-auc:0.993354\teval-auc:0.765973\n",
      "[1940]\ttrain-auc:0.99338\teval-auc:0.765857\n",
      "[1950]\ttrain-auc:0.993413\teval-auc:0.765364\n",
      "[1960]\ttrain-auc:0.993429\teval-auc:0.765488\n",
      "[1970]\ttrain-auc:0.993468\teval-auc:0.766361\n",
      "[1980]\ttrain-auc:0.993491\teval-auc:0.766085\n",
      "[1990]\ttrain-auc:0.993545\teval-auc:0.767479\n",
      "[2000]\ttrain-auc:0.993587\teval-auc:0.764373\n",
      "[2010]\ttrain-auc:0.993609\teval-auc:0.764324\n",
      "[2020]\ttrain-auc:0.993625\teval-auc:0.765215\n",
      "[2030]\ttrain-auc:0.993661\teval-auc:0.765011\n",
      "[2040]\ttrain-auc:0.993743\teval-auc:0.765861\n",
      "[2050]\ttrain-auc:0.993799\teval-auc:0.765229\n",
      "[2060]\ttrain-auc:0.993814\teval-auc:0.764791\n",
      "[2070]\ttrain-auc:0.993833\teval-auc:0.766456\n",
      "[2080]\ttrain-auc:0.993869\teval-auc:0.767756\n",
      "[2090]\ttrain-auc:0.993924\teval-auc:0.768888\n",
      "[2100]\ttrain-auc:0.993977\teval-auc:0.76717\n",
      "[2110]\ttrain-auc:0.994013\teval-auc:0.767896\n",
      "[2120]\ttrain-auc:0.994062\teval-auc:0.768736\n",
      "[2130]\ttrain-auc:0.994103\teval-auc:0.769559\n",
      "[2140]\ttrain-auc:0.994126\teval-auc:0.768959\n",
      "[2150]\ttrain-auc:0.994146\teval-auc:0.769029\n",
      "[2160]\ttrain-auc:0.994195\teval-auc:0.769557\n",
      "[2170]\ttrain-auc:0.994224\teval-auc:0.769559\n",
      "[2180]\ttrain-auc:0.994246\teval-auc:0.769254\n",
      "[2190]\ttrain-auc:0.994265\teval-auc:0.768936\n",
      "[2200]\ttrain-auc:0.99427\teval-auc:0.770018\n",
      "[2210]\ttrain-auc:0.994295\teval-auc:0.769733\n",
      "[2220]\ttrain-auc:0.994324\teval-auc:0.771363\n",
      "[2230]\ttrain-auc:0.994331\teval-auc:0.772012\n",
      "[2240]\ttrain-auc:0.994338\teval-auc:0.771083\n",
      "[2250]\ttrain-auc:0.994379\teval-auc:0.770283\n",
      "[2260]\ttrain-auc:0.994399\teval-auc:0.769773\n",
      "[2270]\ttrain-auc:0.994428\teval-auc:0.770002\n",
      "[2280]\ttrain-auc:0.994458\teval-auc:0.771094\n",
      "[2290]\ttrain-auc:0.994476\teval-auc:0.770374\n",
      "[2300]\ttrain-auc:0.994498\teval-auc:0.770139\n",
      "[2310]\ttrain-auc:0.994516\teval-auc:0.769794\n",
      "[2320]\ttrain-auc:0.994553\teval-auc:0.771538\n",
      "[2330]\ttrain-auc:0.99457\teval-auc:0.770258\n",
      "[2340]\ttrain-auc:0.994592\teval-auc:0.771466\n",
      "[2350]\ttrain-auc:0.994596\teval-auc:0.771377\n",
      "[2360]\ttrain-auc:0.994627\teval-auc:0.771977\n",
      "[2370]\ttrain-auc:0.994635\teval-auc:0.770645\n",
      "[2380]\ttrain-auc:0.994653\teval-auc:0.771705\n",
      "[2390]\ttrain-auc:0.994676\teval-auc:0.769895\n",
      "[2400]\ttrain-auc:0.994694\teval-auc:0.768484\n",
      "[2410]\ttrain-auc:0.994722\teval-auc:0.766448\n",
      "[2420]\ttrain-auc:0.994735\teval-auc:0.76576\n",
      "[2430]\ttrain-auc:0.994761\teval-auc:0.76714\n",
      "[2440]\ttrain-auc:0.994785\teval-auc:0.766587\n",
      "[2450]\ttrain-auc:0.994814\teval-auc:0.765308\n",
      "[2460]\ttrain-auc:0.99483\teval-auc:0.765077\n",
      "[2470]\ttrain-auc:0.994858\teval-auc:0.764811\n",
      "[2480]\ttrain-auc:0.994873\teval-auc:0.765396\n",
      "[2490]\ttrain-auc:0.9949\teval-auc:0.765191\n",
      "[2500]\ttrain-auc:0.994914\teval-auc:0.764912\n",
      "[2510]\ttrain-auc:0.994931\teval-auc:0.764283\n",
      "[2520]\ttrain-auc:0.994941\teval-auc:0.765438\n",
      "[2530]\ttrain-auc:0.994962\teval-auc:0.765008\n",
      "[2540]\ttrain-auc:0.994985\teval-auc:0.766035\n",
      "[2550]\ttrain-auc:0.995005\teval-auc:0.764532\n",
      "Stopping. Best iteration:\n",
      "[2358]\ttrain-auc:0.994618\teval-auc:0.772858\n",
      "\n"
     ]
    }
   ],
   "source": [
    "param1 = {'objective': 'binary:logistic', \n",
    "         'booster': 'gbtree',\n",
    "         'max_depth': 11, \n",
    "         'gamma': 0.038587401190034704, \n",
    "         'eval_metric': 'auc', \n",
    "         'colsample_bylevel': 0.40883831209377614, \n",
    "         'min_child_weight': 7, \n",
    "         'lambda': 3.480389590147552, \n",
    "         'n_estimators': 100000, \n",
    "         'colsample_bytree': 0.26928766415604755, \n",
    "         'seed': 5, \n",
    "         'alpha': 0.7707414382224765, \n",
    "         'nthread': 20, \n",
    "         'silent': 1, \n",
    "         'subsample': 0.5447189256867526, \n",
    "         'eta': 0.3}\n",
    "dval = dtest.slice(indx)\n",
    "dval.set_label(ag.outcome.values)\n",
    "evals  = [(dtrain, 'train'),(dval, 'eval')]\n",
    "num_round = 200000\n",
    "bst = xgb.train(param1, dtrain, num_round, early_stopping_rounds=200, evals=evals, verbose_eval=10)"
   ]
  },
  {
   "cell_type": "code",
   "execution_count": 22,
   "metadata": {
    "collapsed": false
   },
   "outputs": [],
   "source": [
    "ypred = bst.predict(dtest, ntree_limit=bst.best_ntree_limit)"
   ]
  },
  {
   "cell_type": "code",
   "execution_count": 25,
   "metadata": {
    "collapsed": false
   },
   "outputs": [],
   "source": [
    "act_test_data1  = pd.read_csv(\"redhat_data_new/act_test_new_try2.csv\", dtype={'people_id': np.str, 'activity_id': np.str}, parse_dates=['date'])"
   ]
  },
  {
   "cell_type": "code",
   "execution_count": 31,
   "metadata": {
    "collapsed": false,
    "nbpresent": {
     "id": "b88c26cc-f42c-4e0e-818d-b89002d87a0e"
    }
   },
   "outputs": [],
   "source": [
    "output = pd.DataFrame({ 'activity_id' : act_test_data1['activity_id'], 'outcome': ypred })\n",
    "output.head()\n",
    "output.to_csv('model_sub_81k_try2.csv', index = False)"
   ]
  },
  {
   "cell_type": "code",
   "execution_count": null,
   "metadata": {
    "collapsed": true
   },
   "outputs": [],
   "source": []
  }
 ],
 "metadata": {
  "anaconda-cloud": {},
  "kernelspec": {
   "display_name": "Python [default]",
   "language": "python",
   "name": "python3"
  },
  "language_info": {
   "codemirror_mode": {
    "name": "ipython",
    "version": 3
   },
   "file_extension": ".py",
   "mimetype": "text/x-python",
   "name": "python",
   "nbconvert_exporter": "python",
   "pygments_lexer": "ipython3",
   "version": "3.5.2"
  }
 },
 "nbformat": 4,
 "nbformat_minor": 1
}
